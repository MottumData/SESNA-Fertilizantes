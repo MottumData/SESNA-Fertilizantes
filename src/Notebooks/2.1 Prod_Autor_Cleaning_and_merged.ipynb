{
 "cells": [
  {
   "cell_type": "markdown",
   "id": "6960feab7ef56473",
   "metadata": {},
   "source": [
    "# Data Cleaning Listado de Productores Autorizados"
   ]
  },
  {
   "cell_type": "markdown",
   "id": "23de63a25eb2daf6",
   "metadata": {},
   "source": [
    "## Autores\n",
    "- José Luis Delgado Dávara\n",
    "- Arturo Ortiz Aguilar\n",
    "- Beltrán Valle Gutiérrez-Cortines"
   ]
  },
  {
   "cell_type": "code",
   "execution_count": null,
   "id": "cb5833c3d96a224c",
   "metadata": {
    "ExecuteTime": {
     "end_time": "2024-05-30T14:01:37.230529Z",
     "start_time": "2024-05-30T14:01:37.040759Z"
    }
   },
   "outputs": [],
   "source": [
    "import pandas as pd\n",
    "import seaborn as sns\n",
    "from thefuzz import fuzz\n",
    "from thefuzz import process\n",
    "import matplotlib.pyplot as plt\n",
    "import numpy as np\n",
    "import os\n",
    "import glob\n",
    "import re\n",
    "import unidecode"
   ]
  },
  {
   "cell_type": "code",
   "execution_count": null,
   "id": "50c54292bf4357ef",
   "metadata": {},
   "outputs": [],
   "source": [
    "def load_datasets(directory):\n",
    "    # Get a list of all CSV files in the directory\n",
    "    csv_files = glob.glob(os.path.join(directory, '*.csv'))\n",
    "\n",
    "    dataframes = []\n",
    "    for file in csv_files:\n",
    "        try:\n",
    "            # Try to read the CSV file with cp1252 encoding\n",
    "            df = pd.read_csv(file, encoding='cp1252', index_col=0, skiprows=1)\n",
    "        except UnicodeDecodeError:\n",
    "            # If it fails, try to read the CSV file with utf-8 encoding\n",
    "            df = pd.read_csv(file, encoding='utf-8', index_col=0, skiprows=1)\n",
    "        \n",
    "        # Print the columns of the current DataFrame\n",
    "        print(f\"Columns in {file}: {df.columns.tolist()}\")\n",
    "        \n",
    "        dataframes.append(df)\n",
    "\n",
    "    # Concatenate all DataFrames in the list\n",
    "    merged_df = pd.concat(dataframes, ignore_index=True)\n",
    "\n",
    "    return merged_df\n",
    "\n",
    "\n",
    "def clean_text(text):\n",
    "    \"\"\"\n",
    "    De esta manera tenemos el texto sin espacios blancos extra y sobre todo con todas las palabras con capitalización correcta.\n",
    "    \"\"\"\n",
    "    if pd.isna(text):\n",
    "        return text\n",
    "    text = text.strip()  # Eliminate white spaces\n",
    "    text = text.lower()  # Convert to lowercase\n",
    "    text = unidecode.unidecode(text)  # Remove accents\n",
    "    text = re.sub('-.*-', '', text)\n",
    "    text = re.sub('\\s+', ' ', text)  # Eliminate extra white spaces\n",
    "    text = re.sub('^\\s+|\\s+?$', '', text)  # Eliminate spaces at the beginning and end\n",
    "    return text"
   ]
  },
  {
   "cell_type": "markdown",
   "id": "d9e79a66e3f69cec",
   "metadata": {},
   "source": [
    "# 1. Lectura de los datos"
   ]
  },
  {
   "cell_type": "markdown",
   "id": "d6771743107e3696",
   "metadata": {},
   "source": [
    "Lectura del dataset del INEGI"
   ]
  },
  {
   "cell_type": "code",
   "execution_count": null,
   "id": "6b4ca0cf38eed347",
   "metadata": {},
   "outputs": [],
   "source": [
    "path_dataset_inegi = '../../data/inegi/dataset_inegi.csv'\n",
    "dataset_inegi = pd.read_csv(path_dataset_inegi, encoding='cp1252', dtype={'CVE_ENT': str, 'CVE_MUN': str})"
   ]
  },
  {
   "cell_type": "markdown",
   "id": "e6da8f9a256ab0a5",
   "metadata": {},
   "source": [
    "Lectura del listado de productores autorizados"
   ]
  },
  {
   "cell_type": "code",
   "execution_count": null,
   "id": "530b0c06fe0e1a48",
   "metadata": {},
   "outputs": [],
   "source": [
    "listado_productores = load_datasets('../../data/productores_autorizados')"
   ]
  },
  {
   "cell_type": "markdown",
   "id": "bd218ab9c05c4f17",
   "metadata": {},
   "source": [
    "# 2. Limpieza de los datos"
   ]
  },
  {
   "cell_type": "markdown",
   "id": "ea6d7821ccadb4a0",
   "metadata": {},
   "source": [
    "## 2.1 INEGI"
   ]
  },
  {
   "cell_type": "code",
   "execution_count": null,
   "id": "3c5387b1252b7f17",
   "metadata": {},
   "outputs": [],
   "source": [
    "# Revisamos las columnas del dataset\n",
    "dataset_inegi.columns"
   ]
  },
  {
   "cell_type": "code",
   "execution_count": null,
   "id": "1dc1cc092735de91",
   "metadata": {},
   "outputs": [],
   "source": [
    "# Revisamos las primeras filas del dataset\n",
    "dataset_inegi.head()"
   ]
  },
  {
   "cell_type": "code",
   "execution_count": null,
   "id": "8e18a0453a3e45b2",
   "metadata": {},
   "outputs": [],
   "source": [
    "# Eliminamos las columnas que no son de interés\n",
    "COLUMNS_TO_DROP = ['MAPA', 'Estatus', 'NOM_ABR', 'CVE_LOC', 'NOM_LOC', 'AMBITO', 'LATITUD', 'LONGITUD',\n",
    "                   'LAT_DECIMAL', 'LON_DECIMAL', 'ALTITUD', 'CVE_CARTA', 'POB_TOTAL',\n",
    "                   'POB_MASCULINA', 'POB_FEMENINA', 'TOTAL DE VIVIENDAS HABITADAS']\n",
    "dataset_inegi = dataset_inegi.drop(COLUMNS_TO_DROP, axis=1)"
   ]
  },
  {
   "cell_type": "code",
   "execution_count": null,
   "id": "68eda73499d7bf28",
   "metadata": {},
   "outputs": [],
   "source": [
    "# Las claves de entidad y municipio serán tratadas numéricamente en la limpieza aunque posteriormente se les asignará el tipo de cadena de texto para tener el estándar.\n",
    "dataset_inegi.dtypes"
   ]
  },
  {
   "cell_type": "code",
   "execution_count": null,
   "id": "8ea90370842ade35",
   "metadata": {},
   "outputs": [],
   "source": [
    "# Revisamos la cantidad de filas y columnas del dataset\n",
    "print(\"Shape of dataset_inegi: \", dataset_inegi.shape)\n",
    "\n",
    "dataset_inegi_clean = dataset_inegi.drop_duplicates()\n",
    "print(\"Shape of dataset_inegi_clean: \", dataset_inegi_clean.shape)"
   ]
  },
  {
   "cell_type": "markdown",
   "id": "d1a95aa7a8200c94",
   "metadata": {},
   "source": [
    "A partir de aquí seguimos trabajando con el listado de Estados y Municipios limpio de Inegi (sin repetir) \"dataset_inegi_clean\"."
   ]
  },
  {
   "cell_type": "code",
   "execution_count": null,
   "id": "7c64e8e61d049eb5",
   "metadata": {},
   "outputs": [],
   "source": [
    "# Revisamos las primeras filas del dataset con las columnas seleccionadas\n",
    "dataset_inegi_clean.head()"
   ]
  },
  {
   "cell_type": "code",
   "execution_count": null,
   "id": "f04fff8026ae55df",
   "metadata": {},
   "outputs": [],
   "source": [
    "# Revisamos las últimas filas del dataset con las columnas seleccionadas\n",
    "dataset_inegi_clean.tail()"
   ]
  },
  {
   "cell_type": "code",
   "execution_count": null,
   "id": "b7756083769c1f4b",
   "metadata": {},
   "outputs": [],
   "source": [
    "dataset_inegi_clean.info()"
   ]
  },
  {
   "cell_type": "code",
   "execution_count": null,
   "id": "965a194fff7901b",
   "metadata": {},
   "outputs": [],
   "source": [
    "print(\"Los valores únicos en cada columna son:\\n\", dataset_inegi_clean.nunique())"
   ]
  },
  {
   "cell_type": "code",
   "execution_count": null,
   "id": "eb80a147a9155895",
   "metadata": {},
   "outputs": [],
   "source": [
    "# Creamos una columna con la clave única por municipio\n",
    "\n",
    "dataset_inegi_clean['CVE_MUN_Unique'] = dataset_inegi_clean['CVE_ENT'].astype(str) + '-' + dataset_inegi_clean[\n",
    "    'CVE_MUN'].astype(str)\n",
    "\n",
    "dataset_inegi_clean.head()"
   ]
  },
  {
   "cell_type": "code",
   "execution_count": null,
   "id": "8af76d69a219207a",
   "metadata": {},
   "outputs": [],
   "source": [
    "dataset_inegi_clean.tail()"
   ]
  },
  {
   "cell_type": "markdown",
   "id": "f8ecc77c5f8d78f8",
   "metadata": {},
   "source": [
    "### 2.1.1 Estandarización de nombre de municipios\n",
    "\n",
    "Con el fin de poder hacer un merge bajo los mismos nombres, hacemos una limpieza de los datos."
   ]
  },
  {
   "cell_type": "code",
   "execution_count": null,
   "id": "60ca7ecd2b7b2266",
   "metadata": {},
   "outputs": [],
   "source": [
    "# Estandarizamos la limpieza de los datos\n",
    "dataset_inegi_clean['NOM_ENT_Clean'] = dataset_inegi_clean['NOM_ENT'].apply(clean_text)\n",
    "dataset_inegi_clean['NOM_MUN_Clean'] = dataset_inegi_clean['NOM_MUN'].apply(clean_text)"
   ]
  },
  {
   "cell_type": "code",
   "execution_count": null,
   "id": "1b06bbafd0a581ad",
   "metadata": {},
   "outputs": [],
   "source": [
    "dataset_inegi_clean"
   ]
  },
  {
   "cell_type": "code",
   "execution_count": null,
   "id": "311c786d37c2dbdb",
   "metadata": {},
   "outputs": [],
   "source": [
    "dataset_inegi_clean.shape"
   ]
  },
  {
   "cell_type": "markdown",
   "id": "961043816c363dc1",
   "metadata": {},
   "source": [
    "## 2.2 Listado de Productores Autorizados"
   ]
  },
  {
   "cell_type": "code",
   "execution_count": null,
   "id": "f5126f2395de5566",
   "metadata": {},
   "outputs": [],
   "source": [
    "listado_productores.columns"
   ]
  },
  {
   "cell_type": "code",
   "execution_count": null,
   "id": "9ec55e636d6b3393",
   "metadata": {},
   "outputs": [],
   "source": [
    "listado_productores = listado_productores.drop(columns=['Unnamed: 8', 'Unnamed: 9', 'Unnamed: 10'])"
   ]
  },
  {
   "cell_type": "code",
   "execution_count": null,
   "id": "e6e19348f42dcf96",
   "metadata": {},
   "outputs": [],
   "source": [
    "listado_productores.head()"
   ]
  },
  {
   "cell_type": "code",
   "execution_count": null,
   "id": "dc42ce12d8dd82d1",
   "metadata": {},
   "outputs": [],
   "source": [
    "# Mostramos el tipo de dato de cada columna\n",
    "listado_productores.dtypes\n",
    "listado_productores.info()"
   ]
  },
  {
   "cell_type": "code",
   "execution_count": null,
   "id": "1f970f523a852064",
   "metadata": {},
   "outputs": [],
   "source": [
    "# Observamos los valores únicos y la cantidad de cada columna, ordenados\n",
    "COLUMNS_TO_VIEW = ['ESTADO', 'MUNICIPIO', 'PAQUETE']\n",
    "for column in COLUMNS_TO_VIEW:\n",
    "    unique_values = listado_productores[column].unique()\n",
    "    if unique_values.dtype == 'object':\n",
    "        unique_values = unique_values.astype(str)\n",
    "        unique_values.sort()\n",
    "    if len(unique_values) <= 1000:\n",
    "        print(\n",
    "            f\"\\n{column}\\nCantidad de valores unicos {len(unique_values)}. Valores únicos en la columna {column}: {unique_values}\")\n",
    "    else:\n",
    "        print(f\"\\nCantidad de valores únicos en {column}: {len(unique_values)}\")\n",
    "        print(f\"Valores únicos en la columna {column}:\")\n",
    "        for value in unique_values:\n",
    "            print(value)"
   ]
  },
  {
   "cell_type": "code",
   "execution_count": null,
   "id": "ade1f71069f86ac6",
   "metadata": {},
   "outputs": [],
   "source": [
    "\n",
    "municipio_counts = listado_productores['MUNICIPIO'].value_counts().reset_index()\n",
    "municipio_counts.columns = ['MUNICIPIO', 'COUNT']\n",
    "print(municipio_counts)"
   ]
  },
  {
   "cell_type": "markdown",
   "id": "9d77407e629d0815",
   "metadata": {},
   "source": [
    "¿Qué ESTADOS tienen algún municipio NULL?"
   ]
  },
  {
   "cell_type": "code",
   "execution_count": null,
   "id": "ac305c5a0e008ae6",
   "metadata": {},
   "outputs": [],
   "source": [
    "municipios_null = listado_productores[listado_productores['MUNICIPIO'].isnull()]\n",
    "\n",
    "# ¿Qué ESTADOS tienen algún municipio Null?\n",
    "print(municipios_null['ESTADO'].unique())"
   ]
  },
  {
   "cell_type": "code",
   "execution_count": null,
   "id": "afa7ba3106dbaa08",
   "metadata": {},
   "outputs": [],
   "source": [
    "# Filas duplicadas y filas únicas\n",
    "duplicated_rows_productores = listado_productores.duplicated()\n",
    "number_of_duplicated_rows_productores = duplicated_rows_productores.sum()\n",
    "print(f\"El número de filas duplicadas es: {number_of_duplicated_rows_productores}\")\n",
    "print(f\"El número de filas únicas es: {listado_productores.shape[0] - number_of_duplicated_rows_productores}\")"
   ]
  },
  {
   "cell_type": "code",
   "execution_count": null,
   "id": "51b3b8627470cd7c",
   "metadata": {},
   "outputs": [],
   "source": [
    "duplicated_rows = listado_productores[listado_productores.duplicated()]\n",
    "\n",
    "# Imprimir las filas duplicadas\n",
    "print(duplicated_rows)"
   ]
  },
  {
   "cell_type": "code",
   "execution_count": null,
   "id": "49d20bc505bf62bc",
   "metadata": {},
   "outputs": [],
   "source": [
    "listado_productores.drop_duplicates(inplace=True)"
   ]
  },
  {
   "cell_type": "markdown",
   "id": "3642f518f7a3a768",
   "metadata": {},
   "source": [
    "No hay filas completas duplicadas."
   ]
  },
  {
   "cell_type": "code",
   "execution_count": null,
   "id": "77f2536a4f8dc535",
   "metadata": {},
   "outputs": [],
   "source": [
    "# Valores nulos\n",
    "listado_productores.isna().sum()"
   ]
  },
  {
   "cell_type": "markdown",
   "id": "3a28b7f3492d9708",
   "metadata": {},
   "source": [
    "Existen 75512 filas con el municipio nulo. \n",
    "Y muchas filas con nombre y apellidos vacíos.\n"
   ]
  },
  {
   "cell_type": "code",
   "execution_count": null,
   "id": "d75019c40cb8ba9e",
   "metadata": {},
   "outputs": [],
   "source": [
    "# Analicemos dónde los municipios están vacíos\n",
    "listado_productores[(listado_productores['MUNICIPIO'].isna())]\n"
   ]
  },
  {
   "cell_type": "markdown",
   "id": "3c65cff3a4f46449",
   "metadata": {},
   "source": [
    "Todas las filas con municipios vacíos vienen del estado de Veracruz de Ignacio de la Llave."
   ]
  },
  {
   "cell_type": "code",
   "execution_count": null,
   "id": "ae44736d0f0fe062",
   "metadata": {},
   "outputs": [],
   "source": [
    "listado_productores.info()"
   ]
  },
  {
   "cell_type": "markdown",
   "id": "183d3082b383a95b",
   "metadata": {},
   "source": [
    "### 2.1.1 Estandarización de nombre de municipios\n",
    "\n",
    "Con el fin de poder hacer un merge bajo los mismos nombres, hacemos una limpieza de los nombres de municipios en un dataset más ligero llamado **Estados_productores**."
   ]
  },
  {
   "cell_type": "code",
   "execution_count": null,
   "id": "1d58400229254e1d",
   "metadata": {},
   "outputs": [],
   "source": [
    "# Seleccionar solo las dos primeras columnas\n",
    "Estados_productores = listado_productores[['ESTADO', 'MUNICIPIO']]\n",
    "\n",
    "# Obtener las filas únicas\n",
    "Estados_productores = Estados_productores.drop_duplicates()"
   ]
  },
  {
   "cell_type": "code",
   "execution_count": null,
   "id": "64d305342b3f8fdc",
   "metadata": {},
   "outputs": [],
   "source": [
    "Estados_productores.shape"
   ]
  },
  {
   "cell_type": "code",
   "execution_count": null,
   "id": "c0609a0ea5a30176",
   "metadata": {},
   "outputs": [],
   "source": [
    "# Estandarizamos la limpieza de los datos\n",
    "Estados_productores['ESTADO_Clean'] = Estados_productores['ESTADO'].apply(clean_text)\n",
    "Estados_productores['MUNICIPIO_Clean'] = Estados_productores['MUNICIPIO'].apply(clean_text)"
   ]
  },
  {
   "cell_type": "markdown",
   "id": "17b3b787e9f07e93",
   "metadata": {},
   "source": [
    "Creamos columna clave"
   ]
  },
  {
   "cell_type": "code",
   "execution_count": null,
   "id": "2563989ae722b656",
   "metadata": {},
   "outputs": [],
   "source": [
    "# Primero creemos una columna clave en cada dataset -> Estados productores\n",
    "\n",
    "Estados_productores[\"ESTADO_Clean\"] = Estados_productores[\"ESTADO_Clean\"].astype(str)\n",
    "Estados_productores[\"MUNICIPIO_Clean\"] = Estados_productores[\"MUNICIPIO_Clean\"].astype(str)\n",
    "\n",
    "Estados_productores[\"KEY_prod\"] = Estados_productores[\"ESTADO_Clean\"] + \"-\" + Estados_productores[\"MUNICIPIO_Clean\"]"
   ]
  },
  {
   "cell_type": "code",
   "execution_count": null,
   "id": "103e8e166dd9e227",
   "metadata": {},
   "outputs": [],
   "source": [
    "Estados_productores.shape"
   ]
  },
  {
   "cell_type": "markdown",
   "id": "9bdbd3c6d38480da",
   "metadata": {},
   "source": [
    "# 3. Diccionario de los datasets de INEGI Y PRODUCTORES AUTORIZADOS\n",
    "\n",
    "A este punto llegamos con 3 datasets:  \n",
    "    1. dataset_inegi_clean: municipios y estados de INEGI con los nombres estandarizados  \n",
    "    2. Productores_Autorizados: listado de productores autorizados con municipios y estados estandarizados  \n",
    "    3. Estados_productores: Municipios y Estados únicos que aparecen en el listado de Productores Autorizados, sin el formato INEGI.  \n",
    "\n",
    "El objetivo de esta sección es crear un diccionario de códigos según INEGI para los municipios Estados_productores. Para ello haremos un Left join entre Estados_productores y dataset_inegi_clean."
   ]
  },
  {
   "cell_type": "markdown",
   "id": "b4aa54522b4ffd61",
   "metadata": {},
   "source": [
    "### 3.1 Left join"
   ]
  },
  {
   "cell_type": "code",
   "execution_count": null,
   "id": "ff1059e14d56987f",
   "metadata": {},
   "outputs": [],
   "source": [
    "# Primero creemos una columna clave en cada dataset -> INEGI\n",
    "\n",
    "dataset_inegi_clean[\"NOM_ENT_Clean\"] = dataset_inegi_clean[\"NOM_ENT_Clean\"].astype(str)\n",
    "dataset_inegi_clean[\"NOM_MUN_Clean\"] = dataset_inegi_clean[\"NOM_MUN_Clean\"].astype(str)\n",
    "\n",
    "dataset_inegi_clean[\"KEY_inegi\"] = dataset_inegi_clean[\"NOM_ENT_Clean\"] + \"-\" + dataset_inegi_clean[\"NOM_MUN_Clean\"]"
   ]
  },
  {
   "cell_type": "code",
   "execution_count": null,
   "id": "5fa30ab6d9c72d70",
   "metadata": {},
   "outputs": [],
   "source": [
    "dataset_inegi_clean.info()"
   ]
  },
  {
   "cell_type": "code",
   "execution_count": null,
   "id": "9f214ce2b357959",
   "metadata": {},
   "outputs": [],
   "source": [
    "Estados_productores.info()"
   ]
  },
  {
   "cell_type": "code",
   "execution_count": null,
   "id": "10d36cff8b1393cd",
   "metadata": {},
   "outputs": [],
   "source": [
    "Estados_productores = Estados_productores.drop(['ESTADO', 'MUNICIPIO'], axis=1)\n",
    "Estados_productores = Estados_productores.drop_duplicates()\n",
    "Estados_productores.shape"
   ]
  },
  {
   "cell_type": "markdown",
   "id": "caa52a26fe8c5e4",
   "metadata": {},
   "source": [
    "Comprobamos que la columna KEY es realmente clave."
   ]
  },
  {
   "cell_type": "code",
   "execution_count": null,
   "id": "49b544b42bf3d45",
   "metadata": {},
   "outputs": [],
   "source": [
    "Estados_productores['KEY_prod'].nunique()"
   ]
  },
  {
   "cell_type": "code",
   "execution_count": null,
   "id": "fe99becdd12863b2",
   "metadata": {},
   "outputs": [],
   "source": [
    "\n",
    "# Crear una función para encontrar la mejor coincidencia difusa con límites entre 90 y 100 de coincidencia\n",
    "def fuzzy_merge(df_inegi, df_prod, key1, key2, threshold=96, limit=1):\n",
    "    \"\"\"\n",
    "    df_inegi: DataFrame de la izquierda (el DataFrame principal)\n",
    "    df_prod: DataFrame de la derecha (el DataFrame con el que se quiere hacer el join)\n",
    "    key1: Columna de la clave en df_inegi\n",
    "    key2: Columna de la clave en df_prod\n",
    "    threshold: Umbral de coincidencia difusa\n",
    "    limit: Número de coincidencias a encontrar\n",
    "    \"\"\"\n",
    "    s = df_prod[key2].tolist()\n",
    "\n",
    "    # Encontrar las mejores coincidencias para cada clave en df_inegi\n",
    "    matches = df_inegi[key1].apply(lambda x: process.extractOne(x, s, score_cutoff=threshold))\n",
    "\n",
    "    # Crear una columna con las mejores coincidencias\n",
    "    df_inegi['best_match'] = [match[0] if match else None for match in matches]\n",
    "    df_inegi['match_score'] = [match[1] if match else None for match in matches]\n",
    "\n",
    "    # Hacer el merge con las mejores coincidencias\n",
    "    df_merged = pd.merge(df_inegi, df_prod, left_on='best_match', right_on=key2, how='inner',\n",
    "                         suffixes=('_inegi', '_prod'))\n",
    "    \n",
    "    return df_merged\n"
   ]
  },
  {
   "cell_type": "code",
   "execution_count": null,
   "id": "63daa27a636974a7",
   "metadata": {},
   "outputs": [],
   "source": [
    "# Aplicar la función de coincidencia difusa\n",
    "diccionario = fuzzy_merge(dataset_inegi_clean, Estados_productores, 'KEY_inegi', 'KEY_prod')\n",
    "diccionario.drop_duplicates(subset=['KEY_inegi'], inplace=True)\n",
    "\n",
    "# Mostrar el resultado\n",
    "diccionario.columns"
   ]
  },
  {
   "cell_type": "code",
   "execution_count": null,
   "id": "35c54b5869d71fd7",
   "metadata": {},
   "outputs": [],
   "source": [
    "diccionario.head()"
   ]
  },
  {
   "cell_type": "code",
   "execution_count": null,
   "id": "86a8d5aca26c2243",
   "metadata": {},
   "outputs": [],
   "source": [
    "diccionario.to_csv('../../data/productores_autorizados/diccionarios_E1/diccionario_prod.csv', index=False)"
   ]
  },
  {
   "cell_type": "markdown",
   "id": "2708cd15fb6b3d11",
   "metadata": {},
   "source": [
    "## 3.2 Productores Autorizados\n",
    "\n",
    "Esta sección se encarga de completar el listado original de Productores Autorizados con los nombre corregido de INEGI usando el diccionario."
   ]
  },
  {
   "cell_type": "code",
   "execution_count": null,
   "id": "3562e20ccf25d4b2",
   "metadata": {},
   "outputs": [],
   "source": [
    "# Crear una variable KEY en listado de productores y el diccionario para hacer el join\n",
    "listado_productores['ESTADO_Clean'] = listado_productores['ESTADO'].apply(clean_text)\n",
    "listado_productores['MUNICIPIO_Clean'] = listado_productores['MUNICIPIO'].apply(clean_text)\n",
    "listado_productores['Estado-mun-KEY'] = listado_productores['ESTADO_Clean'].astype(str) + '-' + listado_productores[\n",
    "    'MUNICIPIO_Clean'].astype(str)\n",
    "\n",
    "diccionario_Sin_VC = diccionario[diccionario[\"NOM_ENT\"] != \"Veracruz de Ignacio de la Llave\"]"
   ]
  },
  {
   "cell_type": "code",
   "execution_count": null,
   "id": "57ff8da780c0a34d",
   "metadata": {},
   "outputs": [],
   "source": [
    "listado_productores.shape"
   ]
  },
  {
   "cell_type": "code",
   "execution_count": null,
   "id": "c5b6299012af82db",
   "metadata": {},
   "outputs": [],
   "source": [
    "diccionario_Sin_VC = diccionario_Sin_VC[['CVE_ENT', 'NOM_ENT', 'CVE_MUN', 'NOM_MUN', 'CVE_MUN_Unique',\n",
    "       'KEY_inegi', 'best_match', 'match_score', 'ESTADO_Clean', 'MUNICIPIO_Clean', 'KEY_prod']]\n",
    "\n",
    "diccionario_Sin_VC.shape"
   ]
  },
  {
   "cell_type": "code",
   "execution_count": null,
   "id": "6222bd98de927bda",
   "metadata": {},
   "outputs": [],
   "source": [
    "diccionario_Sin_VC.to_csv('../../data/productores_autorizados/diccionarios_E1/diccionario_prod_sin_VERACRUZ.csv', index=False)\n",
    "diccionario_Sin_VC.columns"
   ]
  },
  {
   "cell_type": "code",
   "execution_count": null,
   "id": "b20d1911792e2d1c",
   "metadata": {},
   "outputs": [],
   "source": [
    "# Lectura del diccionario manipulado\n",
    "diccionario_manipulado = pd.read_csv('../../data/productores_autorizados/diccionarios_E1/diccionario_prod_sin_VERACRUZ.csv')"
   ]
  },
  {
   "cell_type": "code",
   "execution_count": null,
   "id": "3bc2f28820a0a5bc",
   "metadata": {},
   "outputs": [],
   "source": [
    "# Hacer el join\n",
    "listado_productores_complete = pd.merge(listado_productores, diccionario_manipulado, left_on=\"Estado-mun-KEY\",\n",
    "                                        right_on=\"KEY_prod\", how='left', suffixes=('_prod', '_inegi'))"
   ]
  },
  {
   "cell_type": "code",
   "execution_count": null,
   "id": "e69b8280a7fffdd3",
   "metadata": {},
   "outputs": [],
   "source": [
    "listado_productores_complete[['CVE_ENT', 'CVE_MUN']] = listado_productores_complete['CVE_MUN_Unique'].str.split('-',\n",
    "                                                                                                                expand=True)\n"
   ]
  },
  {
   "cell_type": "code",
   "execution_count": null,
   "id": "3c092f07111dc898",
   "metadata": {},
   "outputs": [],
   "source": [
    "listado_productores_complete.columns"
   ]
  },
  {
   "cell_type": "code",
   "execution_count": null,
   "id": "6d9e3cb1bb62acb5",
   "metadata": {},
   "outputs": [],
   "source": [
    "# Seleccionamos las columnas que nos interesan\n",
    "listado_productores_complete = listado_productores_complete[\n",
    "    ['ESTADO', 'MUNICIPIO', 'ACUSE', 'APELLIDO PATERNO', 'APELLIDO MATERNO',\n",
    "     'NOMBRE (S)', 'PAQUETE', 'KEY_inegi', 'NOM_ENT', 'NOM_MUN', 'CVE_ENT', 'CVE_MUN']]"
   ]
  },
  {
   "cell_type": "code",
   "execution_count": null,
   "id": "72311eadf64fbc35",
   "metadata": {},
   "outputs": [],
   "source": [
    "# Revisamos el dataset\n",
    "print(listado_productores_complete.shape)\n",
    "print(listado_productores_complete.columns)\n",
    "print(listado_productores_complete.head())"
   ]
  },
  {
   "cell_type": "code",
   "execution_count": null,
   "id": "8ec6c2450f8ae43e",
   "metadata": {},
   "outputs": [],
   "source": [
    "listado_productores_complete.to_csv('../../data/listados_completos/listado_productores_complete2023.csv', index=False)"
   ]
  },
  {
   "cell_type": "markdown",
   "id": "e8bf5b317d1c8683",
   "metadata": {},
   "source": [
    "# Adicional"
   ]
  },
  {
   "cell_type": "code",
   "execution_count": null,
   "id": "96f4f43608129fdc",
   "metadata": {},
   "outputs": [],
   "source": [
    "unique_listado = listado_productores['Estado-mun-KEY'].unique()\n",
    "unique_diccionario = diccionario_Sin_VC['KEY_prod'].unique()\n",
    "\n",
    "# To get the common values\n",
    "common_values = set(unique_listado).intersection(unique_diccionario)\n",
    "print(\"Common values:\", common_values)\n",
    "\n",
    "# To get values in listado_productores not in diccionario_Sin_VC\n",
    "in_listado_not_diccionario = set(unique_listado) - set(unique_diccionario)\n",
    "print(\"Values in 'listado_productores' not in 'diccionario_Sin_VC':\", in_listado_not_diccionario)"
   ]
  },
  {
   "cell_type": "code",
   "execution_count": null,
   "id": "1aba71f1bb3653f2",
   "metadata": {},
   "outputs": [],
   "source": [
    "# To get values in diccionario_Sin_VC not in listado_productores\n",
    "in_diccionario_not_listado = set(unique_diccionario) - set(unique_listado)\n",
    "print(\"Values in 'diccionario_Sin_VC' not in 'listado_productores':\", in_diccionario_not_listado)\n",
    "# Create a DataFrame with unique values from 'listado_productores'\n",
    "df_relations = pd.DataFrame(unique_listado, columns=['Estado-mun-KEY'])# Check if each value is present in 'diccionario_Sin_VC'\n",
    "df_relations['In_diccionario_Sin_VC'] = df_relations['Estado-mun-KEY'].isin(unique_diccionario)"
   ]
  },
  {
   "cell_type": "code",
   "execution_count": null,
   "id": "864810538c25347d",
   "metadata": {},
   "outputs": [],
   "source": [
    "# Repeat the process for 'diccionario_Sin_VC'\n",
    "df_relations_diccionario = pd.DataFrame(unique_diccionario, columns=['KEY_prod'])\n",
    "df_relations_diccionario['In_listado_productores'] = df_relations_diccionario['KEY_prod'].isin(unique_listado)\n",
    "\n",
    "# Merge the two DataFrames\n",
    "df_relations = pd.merge(df_relations, df_relations_diccionario, left_on='Estado-mun-KEY', right_on='KEY_prod',\n",
    "                        how='outer')\n",
    "\n",
    "df_relations"
   ]
  },
  {
   "cell_type": "code",
   "execution_count": null,
   "id": "a03482512cbf562a",
   "metadata": {},
   "outputs": [],
   "source": [
    "df_relations[(df_relations['In_diccionario_Sin_VC'] == False) | (df_relations['In_listado_productores'] == False)]"
   ]
  }
 ],
 "metadata": {
  "kernelspec": {
   "display_name": "Python 3",
   "language": "python",
   "name": "python3"
  },
  "language_info": {
   "codemirror_mode": {
    "name": "ipython",
    "version": 3
   },
   "file_extension": ".py",
   "mimetype": "text/x-python",
   "name": "python",
   "nbconvert_exporter": "python",
   "pygments_lexer": "ipython3",
   "version": "3.9.9"
  }
 },
 "nbformat": 4,
 "nbformat_minor": 5
}
