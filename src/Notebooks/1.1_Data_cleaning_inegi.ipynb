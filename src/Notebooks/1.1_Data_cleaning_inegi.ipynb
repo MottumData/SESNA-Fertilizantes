{
 "cells": [
  {
   "cell_type": "markdown",
   "metadata": {},
   "source": [
    "# Data Cleaning Dataset de Inegi"
   ]
  },
  {
   "cell_type": "markdown",
   "metadata": {},
   "source": [
    "En este notebook procederemos con la limpieza del dataset de Inegi"
   ]
  },
  {
   "cell_type": "code",
   "execution_count": 1,
   "metadata": {},
   "outputs": [],
   "source": [
    "import pandas as pd\n",
    "import seaborn as sns\n",
    "from thefuzz import fuzz\n",
    "from thefuzz import process\n",
    "import matplotlib.pyplot as plt\n",
    "import numpy as np\n",
    "import os\n",
    "import glob\n",
    "import re\n",
    "import unidecode"
   ]
  },
  {
   "cell_type": "code",
   "execution_count": 2,
   "metadata": {},
   "outputs": [],
   "source": [
    "def clean_text(text):\n",
    "    \"\"\"\n",
    "    De esta manera tenemos el texto sin espacios blancos extra y sobre todo con todas las palabras con capitalización correcta.\n",
    "    \"\"\"\n",
    "    if pd.isna(text):\n",
    "        return text\n",
    "    text = text.strip()  # Eliminate white spaces\n",
    "    text = text.lower()  # Convert to lowercase\n",
    "    text = unidecode.unidecode(text)  # Remove accents\n",
    "    text = re.sub('-.*-', '', text)\n",
    "    text = re.sub('\\s+', ' ', text)  # Eliminate extra white spaces\n",
    "    text = re.sub('^\\s+|\\s+?$', '', text)  # Eliminate spaces at the beginning and end\n",
    "    return text"
   ]
  },
  {
   "cell_type": "code",
   "execution_count": 3,
   "metadata": {},
   "outputs": [],
   "source": [
    "path_dataset_inegi = '../../data/inegi/dataset_inegi.csv'\n",
    "dataset_inegi = pd.read_csv(path_dataset_inegi, encoding='cp1252', dtype={'CVE_ENT': str, 'CVE_MUN': str})"
   ]
  },
  {
   "cell_type": "code",
   "execution_count": 4,
   "metadata": {},
   "outputs": [],
   "source": [
    "path_dataset_inegi_2019 = '../../data/inegi/dataset_inegi_2019.csv'\n",
    "dataset_inegi_2019 = pd.read_csv(path_dataset_inegi_2019, encoding='utf-8', dtype={'CVE_ENT': str, 'CVE_MUN': str})"
   ]
  },
  {
   "cell_type": "code",
   "execution_count": 5,
   "metadata": {},
   "outputs": [],
   "source": [
    "path_dataset_inegi_2020 = '../../data/inegi/dataset_inegi_2020.csv'\n",
    "dataset_inegi_2020 = pd.read_csv(path_dataset_inegi_2020, encoding='utf-8', dtype={'CVE_ENT': str, 'CVE_MUN': str})"
   ]
  },
  {
   "cell_type": "code",
   "execution_count": 6,
   "metadata": {},
   "outputs": [],
   "source": [
    "path_dataset_inegi_2021 = '../../data/inegi/dataset_inegi_2021.csv'\n",
    "dataset_inegi_2021 = pd.read_csv(path_dataset_inegi_2021, encoding='utf-8', dtype={'CVE_ENT': str, 'CVE_MUN': str})"
   ]
  },
  {
   "cell_type": "code",
   "execution_count": 7,
   "metadata": {},
   "outputs": [],
   "source": [
    "path_dataset_inegi_2022 = '../../data/inegi/dataset_inegi_2022.csv'\n",
    "dataset_inegi_2022 = pd.read_csv(path_dataset_inegi_2022, encoding='utf-8', dtype={'CVE_ENT': str, 'CVE_MUN': str})"
   ]
  },
  {
   "cell_type": "code",
   "execution_count": 8,
   "metadata": {},
   "outputs": [
    {
     "data": {
      "text/plain": [
       "Index(['MAPA', 'Estatus', 'CVE_ENT', 'NOM_ENT', 'NOM_ABR', 'CVE_MUN',\n",
       "       'NOM_MUN', 'CVE_LOC', 'NOM_LOC', 'AMBITO', 'LATITUD', 'LONGITUD',\n",
       "       'LAT_DECIMAL', 'LON_DECIMAL', 'ALTITUD', 'CVE_CARTA', 'POB_TOTAL',\n",
       "       'POB_MASCULINA', 'POB_FEMENINA', 'TOTAL DE VIVIENDAS HABITADAS'],\n",
       "      dtype='object')"
      ]
     },
     "execution_count": 8,
     "metadata": {},
     "output_type": "execute_result"
    }
   ],
   "source": [
    "# Revisamos las columnas del dataset\n",
    "dataset_inegi.columns"
   ]
  },
  {
   "cell_type": "code",
   "execution_count": 9,
   "metadata": {},
   "outputs": [
    {
     "data": {
      "text/html": [
       "<div>\n",
       "<style scoped>\n",
       "    .dataframe tbody tr th:only-of-type {\n",
       "        vertical-align: middle;\n",
       "    }\n",
       "\n",
       "    .dataframe tbody tr th {\n",
       "        vertical-align: top;\n",
       "    }\n",
       "\n",
       "    .dataframe thead th {\n",
       "        text-align: right;\n",
       "    }\n",
       "</style>\n",
       "<table border=\"1\" class=\"dataframe\">\n",
       "  <thead>\n",
       "    <tr style=\"text-align: right;\">\n",
       "      <th></th>\n",
       "      <th>MAPA</th>\n",
       "      <th>Estatus</th>\n",
       "      <th>CVE_ENT</th>\n",
       "      <th>NOM_ENT</th>\n",
       "      <th>NOM_ABR</th>\n",
       "      <th>CVE_MUN</th>\n",
       "      <th>NOM_MUN</th>\n",
       "      <th>CVE_LOC</th>\n",
       "      <th>NOM_LOC</th>\n",
       "      <th>AMBITO</th>\n",
       "      <th>LATITUD</th>\n",
       "      <th>LONGITUD</th>\n",
       "      <th>LAT_DECIMAL</th>\n",
       "      <th>LON_DECIMAL</th>\n",
       "      <th>ALTITUD</th>\n",
       "      <th>CVE_CARTA</th>\n",
       "      <th>POB_TOTAL</th>\n",
       "      <th>POB_MASCULINA</th>\n",
       "      <th>POB_FEMENINA</th>\n",
       "      <th>TOTAL DE VIVIENDAS HABITADAS</th>\n",
       "    </tr>\n",
       "  </thead>\n",
       "  <tbody>\n",
       "    <tr>\n",
       "      <th>0</th>\n",
       "      <td>10010001</td>\n",
       "      <td>NaN</td>\n",
       "      <td>01</td>\n",
       "      <td>Aguascalientes</td>\n",
       "      <td>Ags.</td>\n",
       "      <td>001</td>\n",
       "      <td>Aguascalientes</td>\n",
       "      <td>1</td>\n",
       "      <td>Aguascalientes</td>\n",
       "      <td>U</td>\n",
       "      <td>21°52´47.362N\"</td>\n",
       "      <td>102°17´45.768W\"</td>\n",
       "      <td>21.879822</td>\n",
       "      <td>-102.296046</td>\n",
       "      <td>1878</td>\n",
       "      <td>F13D19</td>\n",
       "      <td>863893</td>\n",
       "      <td>419168</td>\n",
       "      <td>444725</td>\n",
       "      <td>246259</td>\n",
       "    </tr>\n",
       "    <tr>\n",
       "      <th>1</th>\n",
       "      <td>10010094</td>\n",
       "      <td>NaN</td>\n",
       "      <td>01</td>\n",
       "      <td>Aguascalientes</td>\n",
       "      <td>Ags.</td>\n",
       "      <td>001</td>\n",
       "      <td>Aguascalientes</td>\n",
       "      <td>94</td>\n",
       "      <td>Granja Adelita</td>\n",
       "      <td>R</td>\n",
       "      <td>21°52´18.749N\"</td>\n",
       "      <td>102°22´24.710W\"</td>\n",
       "      <td>21.871874</td>\n",
       "      <td>-102.373530</td>\n",
       "      <td>1901</td>\n",
       "      <td>F13D18</td>\n",
       "      <td>5</td>\n",
       "      <td>*</td>\n",
       "      <td>*</td>\n",
       "      <td>2</td>\n",
       "    </tr>\n",
       "    <tr>\n",
       "      <th>2</th>\n",
       "      <td>10010096</td>\n",
       "      <td>NaN</td>\n",
       "      <td>01</td>\n",
       "      <td>Aguascalientes</td>\n",
       "      <td>Ags.</td>\n",
       "      <td>001</td>\n",
       "      <td>Aguascalientes</td>\n",
       "      <td>96</td>\n",
       "      <td>Agua Azul</td>\n",
       "      <td>R</td>\n",
       "      <td>21°53´01.522N\"</td>\n",
       "      <td>102°21´25.639W\"</td>\n",
       "      <td>21.883756</td>\n",
       "      <td>-102.357122</td>\n",
       "      <td>1861</td>\n",
       "      <td>F13D18</td>\n",
       "      <td>41</td>\n",
       "      <td>24</td>\n",
       "      <td>17</td>\n",
       "      <td>12</td>\n",
       "    </tr>\n",
       "    <tr>\n",
       "      <th>3</th>\n",
       "      <td>10010100</td>\n",
       "      <td>NaN</td>\n",
       "      <td>01</td>\n",
       "      <td>Aguascalientes</td>\n",
       "      <td>Ags.</td>\n",
       "      <td>001</td>\n",
       "      <td>Aguascalientes</td>\n",
       "      <td>100</td>\n",
       "      <td>Rancho Alegre</td>\n",
       "      <td>R</td>\n",
       "      <td>21°51´16.556N\"</td>\n",
       "      <td>102°22´21.884W\"</td>\n",
       "      <td>21.854599</td>\n",
       "      <td>-102.372745</td>\n",
       "      <td>1879</td>\n",
       "      <td>F13D18</td>\n",
       "      <td>0</td>\n",
       "      <td>0</td>\n",
       "      <td>0</td>\n",
       "      <td>0</td>\n",
       "    </tr>\n",
       "    <tr>\n",
       "      <th>4</th>\n",
       "      <td>10010102</td>\n",
       "      <td>NaN</td>\n",
       "      <td>01</td>\n",
       "      <td>Aguascalientes</td>\n",
       "      <td>Ags.</td>\n",
       "      <td>001</td>\n",
       "      <td>Aguascalientes</td>\n",
       "      <td>102</td>\n",
       "      <td>Los Arbolitos [Rancho]</td>\n",
       "      <td>R</td>\n",
       "      <td>21°46´48.650N\"</td>\n",
       "      <td>102°21´26.261W\"</td>\n",
       "      <td>21.780180</td>\n",
       "      <td>-102.357295</td>\n",
       "      <td>1861</td>\n",
       "      <td>F13D18</td>\n",
       "      <td>8</td>\n",
       "      <td>*</td>\n",
       "      <td>*</td>\n",
       "      <td>2</td>\n",
       "    </tr>\n",
       "  </tbody>\n",
       "</table>\n",
       "</div>"
      ],
      "text/plain": [
       "       MAPA  Estatus CVE_ENT         NOM_ENT NOM_ABR CVE_MUN         NOM_MUN  \\\n",
       "0  10010001      NaN      01  Aguascalientes    Ags.     001  Aguascalientes   \n",
       "1  10010094      NaN      01  Aguascalientes    Ags.     001  Aguascalientes   \n",
       "2  10010096      NaN      01  Aguascalientes    Ags.     001  Aguascalientes   \n",
       "3  10010100      NaN      01  Aguascalientes    Ags.     001  Aguascalientes   \n",
       "4  10010102      NaN      01  Aguascalientes    Ags.     001  Aguascalientes   \n",
       "\n",
       "   CVE_LOC                 NOM_LOC AMBITO         LATITUD         LONGITUD  \\\n",
       "0        1          Aguascalientes      U  21°52´47.362N\"  102°17´45.768W\"   \n",
       "1       94          Granja Adelita      R  21°52´18.749N\"  102°22´24.710W\"   \n",
       "2       96               Agua Azul      R  21°53´01.522N\"  102°21´25.639W\"   \n",
       "3      100           Rancho Alegre      R  21°51´16.556N\"  102°22´21.884W\"   \n",
       "4      102  Los Arbolitos [Rancho]      R  21°46´48.650N\"  102°21´26.261W\"   \n",
       "\n",
       "   LAT_DECIMAL  LON_DECIMAL  ALTITUD CVE_CARTA POB_TOTAL POB_MASCULINA  \\\n",
       "0    21.879822  -102.296046     1878    F13D19    863893        419168   \n",
       "1    21.871874  -102.373530     1901    F13D18         5             *   \n",
       "2    21.883756  -102.357122     1861    F13D18        41            24   \n",
       "3    21.854599  -102.372745     1879    F13D18         0             0   \n",
       "4    21.780180  -102.357295     1861    F13D18         8             *   \n",
       "\n",
       "  POB_FEMENINA TOTAL DE VIVIENDAS HABITADAS  \n",
       "0       444725                       246259  \n",
       "1            *                            2  \n",
       "2           17                           12  \n",
       "3            0                            0  \n",
       "4            *                            2  "
      ]
     },
     "execution_count": 9,
     "metadata": {},
     "output_type": "execute_result"
    }
   ],
   "source": [
    "dataset_inegi.head()"
   ]
  },
  {
   "cell_type": "code",
   "execution_count": 10,
   "metadata": {},
   "outputs": [
    {
     "data": {
      "text/plain": [
       "Index(['MAPA', 'Estatus', 'CVE_ENT', 'NOM_ENT', 'NOM_ABR', 'CVE_MUN',\n",
       "       'NOM_MUN', 'CVE_LOC', 'NOM_LOC', 'AMBITO', 'LATITUD', 'LONGITUD',\n",
       "       'LAT_DECIMAL', 'LON_DECIMAL', 'ALTITUD', 'CVE_CARTA', 'POB_TOTAL',\n",
       "       'POB_MASCULINA', 'POB_FEMENINA', 'TOTAL DE VIVIENDAS HABITADAS'],\n",
       "      dtype='object')"
      ]
     },
     "execution_count": 10,
     "metadata": {},
     "output_type": "execute_result"
    }
   ],
   "source": [
    "dataset_inegi.columns"
   ]
  },
  {
   "cell_type": "code",
   "execution_count": 11,
   "metadata": {},
   "outputs": [],
   "source": [
    "# Eliminamos las columnas que no son de interés\n",
    "COLUMNS_TO_DROP = ['MAPA', 'Estatus', 'NOM_ABR', 'AMBITO', 'LATITUD', 'LONGITUD',\n",
    "                   'LAT_DECIMAL', 'LON_DECIMAL', 'ALTITUD', 'CVE_CARTA','POB_MASCULINA',\n",
    "                    'POB_FEMENINA', 'TOTAL DE VIVIENDAS HABITADAS']\n",
    "dataset_inegi = dataset_inegi.drop(COLUMNS_TO_DROP, axis=1)\n",
    "dataset_inegi_2019 = dataset_inegi_2019.drop(COLUMNS_TO_DROP, axis=1)\n",
    "dataset_inegi_2020 = dataset_inegi_2020.drop(COLUMNS_TO_DROP, axis=1)\n",
    "dataset_inegi_2021 = dataset_inegi_2021.drop(COLUMNS_TO_DROP, axis=1)\n",
    "dataset_inegi_2022 = dataset_inegi_2022.drop(COLUMNS_TO_DROP, axis=1)"
   ]
  },
  {
   "cell_type": "code",
   "execution_count": 12,
   "metadata": {},
   "outputs": [
    {
     "data": {
      "text/plain": [
       "CVE_ENT      object\n",
       "NOM_ENT      object\n",
       "CVE_MUN      object\n",
       "NOM_MUN      object\n",
       "CVE_LOC       int64\n",
       "NOM_LOC      object\n",
       "POB_TOTAL    object\n",
       "dtype: object"
      ]
     },
     "execution_count": 12,
     "metadata": {},
     "output_type": "execute_result"
    }
   ],
   "source": [
    "# Las claves de entidad y municipio serán tratadas numéricamente en la limpieza aunque posteriormente se les asignará el tipo de cadena de texto para tener el estándar.\n",
    "dataset_inegi.dtypes"
   ]
  },
  {
   "cell_type": "code",
   "execution_count": 13,
   "metadata": {},
   "outputs": [
    {
     "name": "stdout",
     "output_type": "stream",
     "text": [
      "Shape of dataset_inegi:  (299568, 7)\n",
      "Shape of dataset_inegi_clean:  (299568, 7)\n"
     ]
    }
   ],
   "source": [
    "# Revisamos la cantidad de filas y columnas del dataset\n",
    "print(\"Shape of dataset_inegi: \", dataset_inegi.shape)\n",
    "\n",
    "dataset_inegi_clean = dataset_inegi.drop_duplicates()\n",
    "print(\"Shape of dataset_inegi_clean: \", dataset_inegi_clean.shape)"
   ]
  },
  {
   "cell_type": "code",
   "execution_count": 14,
   "metadata": {},
   "outputs": [
    {
     "name": "stdout",
     "output_type": "stream",
     "text": [
      "Shape of dataset_inegi:  (299568, 7)\n",
      "Shape of dataset_inegi_clean:  (299570, 7)\n"
     ]
    }
   ],
   "source": [
    "# Revisamos la cantidad de filas y columnas del dataset\n",
    "print(\"Shape of dataset_inegi: \", dataset_inegi_2019.shape)\n",
    "\n",
    "dataset_inegi_clean_2019 = dataset_inegi_2019.drop_duplicates()\n",
    "print(\"Shape of dataset_inegi_clean: \", dataset_inegi_clean_2019.shape)"
   ]
  },
  {
   "cell_type": "code",
   "execution_count": 15,
   "metadata": {},
   "outputs": [
    {
     "name": "stdout",
     "output_type": "stream",
     "text": [
      "Shape of dataset_inegi:  (299568, 7)\n",
      "Shape of dataset_inegi_clean:  (300690, 7)\n"
     ]
    }
   ],
   "source": [
    "# Revisamos la cantidad de filas y columnas del dataset\n",
    "print(\"Shape of dataset_inegi: \", dataset_inegi_2020.shape)\n",
    "\n",
    "dataset_inegi_clean_2020 = dataset_inegi_2020.drop_duplicates()\n",
    "print(\"Shape of dataset_inegi_clean: \", dataset_inegi_clean_2020.shape)"
   ]
  },
  {
   "cell_type": "code",
   "execution_count": 16,
   "metadata": {},
   "outputs": [
    {
     "name": "stdout",
     "output_type": "stream",
     "text": [
      "Shape of dataset_inegi:  (299568, 7)\n",
      "Shape of dataset_inegi_clean:  (300350, 7)\n"
     ]
    }
   ],
   "source": [
    "# Revisamos la cantidad de filas y columnas del dataset\n",
    "print(\"Shape of dataset_inegi: \", dataset_inegi_2021.shape)\n",
    "\n",
    "dataset_inegi_clean_2021 = dataset_inegi_2021.drop_duplicates()\n",
    "print(\"Shape of dataset_inegi_clean: \", dataset_inegi_clean_2021.shape)"
   ]
  },
  {
   "cell_type": "code",
   "execution_count": 17,
   "metadata": {},
   "outputs": [
    {
     "name": "stdout",
     "output_type": "stream",
     "text": [
      "Shape of dataset_inegi_2022:  (300240, 7)\n",
      "Shape of dataset_inegi_clean_2022:  (300240, 7)\n"
     ]
    }
   ],
   "source": [
    "# Revisamos la cantidad de filas y columnas del dataset\n",
    "print(\"Shape of dataset_inegi_2022: \", dataset_inegi_2022.shape)\n",
    "\n",
    "dataset_inegi_clean_2022 = dataset_inegi_2022.drop_duplicates()\n",
    "print(\"Shape of dataset_inegi_clean_2022: \", dataset_inegi_clean_2022.shape)"
   ]
  },
  {
   "cell_type": "code",
   "execution_count": 18,
   "metadata": {},
   "outputs": [
    {
     "data": {
      "text/html": [
       "<div>\n",
       "<style scoped>\n",
       "    .dataframe tbody tr th:only-of-type {\n",
       "        vertical-align: middle;\n",
       "    }\n",
       "\n",
       "    .dataframe tbody tr th {\n",
       "        vertical-align: top;\n",
       "    }\n",
       "\n",
       "    .dataframe thead th {\n",
       "        text-align: right;\n",
       "    }\n",
       "</style>\n",
       "<table border=\"1\" class=\"dataframe\">\n",
       "  <thead>\n",
       "    <tr style=\"text-align: right;\">\n",
       "      <th></th>\n",
       "      <th>CVE_ENT</th>\n",
       "      <th>NOM_ENT</th>\n",
       "      <th>CVE_MUN</th>\n",
       "      <th>NOM_MUN</th>\n",
       "      <th>CVE_LOC</th>\n",
       "      <th>NOM_LOC</th>\n",
       "      <th>POB_TOTAL</th>\n",
       "    </tr>\n",
       "  </thead>\n",
       "  <tbody>\n",
       "    <tr>\n",
       "      <th>0</th>\n",
       "      <td>01</td>\n",
       "      <td>Aguascalientes</td>\n",
       "      <td>001</td>\n",
       "      <td>Aguascalientes</td>\n",
       "      <td>1</td>\n",
       "      <td>Aguascalientes</td>\n",
       "      <td>863893</td>\n",
       "    </tr>\n",
       "    <tr>\n",
       "      <th>1</th>\n",
       "      <td>01</td>\n",
       "      <td>Aguascalientes</td>\n",
       "      <td>001</td>\n",
       "      <td>Aguascalientes</td>\n",
       "      <td>94</td>\n",
       "      <td>Granja Adelita</td>\n",
       "      <td>5</td>\n",
       "    </tr>\n",
       "    <tr>\n",
       "      <th>2</th>\n",
       "      <td>01</td>\n",
       "      <td>Aguascalientes</td>\n",
       "      <td>001</td>\n",
       "      <td>Aguascalientes</td>\n",
       "      <td>96</td>\n",
       "      <td>Agua Azul</td>\n",
       "      <td>41</td>\n",
       "    </tr>\n",
       "    <tr>\n",
       "      <th>3</th>\n",
       "      <td>01</td>\n",
       "      <td>Aguascalientes</td>\n",
       "      <td>001</td>\n",
       "      <td>Aguascalientes</td>\n",
       "      <td>100</td>\n",
       "      <td>Rancho Alegre</td>\n",
       "      <td>0</td>\n",
       "    </tr>\n",
       "    <tr>\n",
       "      <th>4</th>\n",
       "      <td>01</td>\n",
       "      <td>Aguascalientes</td>\n",
       "      <td>001</td>\n",
       "      <td>Aguascalientes</td>\n",
       "      <td>102</td>\n",
       "      <td>Los Arbolitos [Rancho]</td>\n",
       "      <td>8</td>\n",
       "    </tr>\n",
       "  </tbody>\n",
       "</table>\n",
       "</div>"
      ],
      "text/plain": [
       "  CVE_ENT         NOM_ENT CVE_MUN         NOM_MUN  CVE_LOC  \\\n",
       "0      01  Aguascalientes     001  Aguascalientes        1   \n",
       "1      01  Aguascalientes     001  Aguascalientes       94   \n",
       "2      01  Aguascalientes     001  Aguascalientes       96   \n",
       "3      01  Aguascalientes     001  Aguascalientes      100   \n",
       "4      01  Aguascalientes     001  Aguascalientes      102   \n",
       "\n",
       "                  NOM_LOC POB_TOTAL  \n",
       "0          Aguascalientes    863893  \n",
       "1          Granja Adelita         5  \n",
       "2               Agua Azul        41  \n",
       "3           Rancho Alegre         0  \n",
       "4  Los Arbolitos [Rancho]         8  "
      ]
     },
     "execution_count": 18,
     "metadata": {},
     "output_type": "execute_result"
    }
   ],
   "source": [
    "# Revisamos las primeras filas del dataset con las columnas seleccionadas\n",
    "dataset_inegi_clean.head()"
   ]
  },
  {
   "cell_type": "code",
   "execution_count": 19,
   "metadata": {},
   "outputs": [
    {
     "data": {
      "text/html": [
       "<div>\n",
       "<style scoped>\n",
       "    .dataframe tbody tr th:only-of-type {\n",
       "        vertical-align: middle;\n",
       "    }\n",
       "\n",
       "    .dataframe tbody tr th {\n",
       "        vertical-align: top;\n",
       "    }\n",
       "\n",
       "    .dataframe thead th {\n",
       "        text-align: right;\n",
       "    }\n",
       "</style>\n",
       "<table border=\"1\" class=\"dataframe\">\n",
       "  <thead>\n",
       "    <tr style=\"text-align: right;\">\n",
       "      <th></th>\n",
       "      <th>CVE_ENT</th>\n",
       "      <th>NOM_ENT</th>\n",
       "      <th>CVE_MUN</th>\n",
       "      <th>NOM_MUN</th>\n",
       "      <th>CVE_LOC</th>\n",
       "      <th>NOM_LOC</th>\n",
       "      <th>POB_TOTAL</th>\n",
       "    </tr>\n",
       "  </thead>\n",
       "  <tbody>\n",
       "    <tr>\n",
       "      <th>299563</th>\n",
       "      <td>32</td>\n",
       "      <td>Zacatecas</td>\n",
       "      <td>058</td>\n",
       "      <td>Santa María de la Paz</td>\n",
       "      <td>39</td>\n",
       "      <td>San Isidro</td>\n",
       "      <td>1</td>\n",
       "    </tr>\n",
       "    <tr>\n",
       "      <th>299564</th>\n",
       "      <td>32</td>\n",
       "      <td>Zacatecas</td>\n",
       "      <td>058</td>\n",
       "      <td>Santa María de la Paz</td>\n",
       "      <td>40</td>\n",
       "      <td>San José</td>\n",
       "      <td>0</td>\n",
       "    </tr>\n",
       "    <tr>\n",
       "      <th>299565</th>\n",
       "      <td>32</td>\n",
       "      <td>Zacatecas</td>\n",
       "      <td>058</td>\n",
       "      <td>Santa María de la Paz</td>\n",
       "      <td>41</td>\n",
       "      <td>San Miguel Tepetitlán</td>\n",
       "      <td>97</td>\n",
       "    </tr>\n",
       "    <tr>\n",
       "      <th>299566</th>\n",
       "      <td>32</td>\n",
       "      <td>Zacatecas</td>\n",
       "      <td>058</td>\n",
       "      <td>Santa María de la Paz</td>\n",
       "      <td>42</td>\n",
       "      <td>San Rafael</td>\n",
       "      <td>3</td>\n",
       "    </tr>\n",
       "    <tr>\n",
       "      <th>299567</th>\n",
       "      <td>32</td>\n",
       "      <td>Zacatecas</td>\n",
       "      <td>058</td>\n",
       "      <td>Santa María de la Paz</td>\n",
       "      <td>43</td>\n",
       "      <td>Santa Fe</td>\n",
       "      <td>0</td>\n",
       "    </tr>\n",
       "  </tbody>\n",
       "</table>\n",
       "</div>"
      ],
      "text/plain": [
       "       CVE_ENT    NOM_ENT CVE_MUN                NOM_MUN  CVE_LOC  \\\n",
       "299563      32  Zacatecas     058  Santa María de la Paz       39   \n",
       "299564      32  Zacatecas     058  Santa María de la Paz       40   \n",
       "299565      32  Zacatecas     058  Santa María de la Paz       41   \n",
       "299566      32  Zacatecas     058  Santa María de la Paz       42   \n",
       "299567      32  Zacatecas     058  Santa María de la Paz       43   \n",
       "\n",
       "                      NOM_LOC POB_TOTAL  \n",
       "299563             San Isidro         1  \n",
       "299564               San José         0  \n",
       "299565  San Miguel Tepetitlán        97  \n",
       "299566             San Rafael         3  \n",
       "299567               Santa Fe         0  "
      ]
     },
     "execution_count": 19,
     "metadata": {},
     "output_type": "execute_result"
    }
   ],
   "source": [
    "# Revisamos las últimas filas del dataset con las columnas seleccionadas\n",
    "dataset_inegi_clean.tail()"
   ]
  },
  {
   "cell_type": "code",
   "execution_count": 20,
   "metadata": {},
   "outputs": [
    {
     "name": "stdout",
     "output_type": "stream",
     "text": [
      "<class 'pandas.core.frame.DataFrame'>\n",
      "RangeIndex: 299568 entries, 0 to 299567\n",
      "Data columns (total 7 columns):\n",
      " #   Column     Non-Null Count   Dtype \n",
      "---  ------     --------------   ----- \n",
      " 0   CVE_ENT    299568 non-null  object\n",
      " 1   NOM_ENT    299568 non-null  object\n",
      " 2   CVE_MUN    299568 non-null  object\n",
      " 3   NOM_MUN    299568 non-null  object\n",
      " 4   CVE_LOC    299568 non-null  int64 \n",
      " 5   NOM_LOC    299568 non-null  object\n",
      " 6   POB_TOTAL  299568 non-null  object\n",
      "dtypes: int64(1), object(6)\n",
      "memory usage: 16.0+ MB\n"
     ]
    }
   ],
   "source": [
    "dataset_inegi_clean.info()"
   ]
  },
  {
   "cell_type": "code",
   "execution_count": 21,
   "metadata": {},
   "outputs": [
    {
     "name": "stdout",
     "output_type": "stream",
     "text": [
      "Los valores únicos en cada columna son:\n",
      " CVE_ENT          32\n",
      "NOM_ENT          32\n",
      "CVE_MUN         570\n",
      "NOM_MUN        2332\n",
      "CVE_LOC        5692\n",
      "NOM_LOC      149004\n",
      "POB_TOTAL      5772\n",
      "dtype: int64\n"
     ]
    }
   ],
   "source": [
    "print(\"Los valores únicos en cada columna son:\\n\", dataset_inegi_clean.nunique())"
   ]
  },
  {
   "cell_type": "markdown",
   "metadata": {},
   "source": [
    "### 2.1.1 Estandarización de nombre de municipios\n",
    "\n",
    "Con el fin de poder hacer un merge bajo los mismos nombres, hacemos una limpieza de los datos."
   ]
  },
  {
   "cell_type": "code",
   "execution_count": 22,
   "metadata": {},
   "outputs": [],
   "source": [
    "dataset_inegi_clean['NOM_ENT_Clean'] = dataset_inegi_clean['NOM_ENT'].apply(clean_text)\n",
    "dataset_inegi_clean['NOM_MUN_Clean'] = dataset_inegi_clean['NOM_MUN'].apply(clean_text)\n",
    "dataset_inegi_clean['NOM_LOC_Clean'] = dataset_inegi_clean['NOM_LOC'].apply(clean_text)"
   ]
  },
  {
   "cell_type": "code",
   "execution_count": 23,
   "metadata": {},
   "outputs": [],
   "source": [
    "dataset_inegi_clean_2019['NOM_ENT_Clean'] = dataset_inegi_clean_2019['NOM_ENT'].apply(clean_text)\n",
    "dataset_inegi_clean_2019['NOM_MUN_Clean'] = dataset_inegi_clean_2019['NOM_MUN'].apply(clean_text)\n",
    "dataset_inegi_clean_2019['NOM_LOC_Clean'] = dataset_inegi_clean_2019['NOM_LOC'].apply(clean_text)"
   ]
  },
  {
   "cell_type": "code",
   "execution_count": 24,
   "metadata": {},
   "outputs": [],
   "source": [
    "dataset_inegi_clean_2020['NOM_ENT_Clean'] = dataset_inegi_clean_2020['NOM_ENT'].apply(clean_text)\n",
    "dataset_inegi_clean_2020['NOM_MUN_Clean'] = dataset_inegi_clean_2020['NOM_MUN'].apply(clean_text)\n",
    "dataset_inegi_clean_2020['NOM_LOC_Clean'] = dataset_inegi_clean_2020['NOM_LOC'].apply(clean_text)"
   ]
  },
  {
   "cell_type": "code",
   "execution_count": 25,
   "metadata": {},
   "outputs": [],
   "source": [
    "dataset_inegi_clean_2021['NOM_ENT_Clean'] = dataset_inegi_clean_2021['NOM_ENT'].apply(clean_text)\n",
    "dataset_inegi_clean_2021['NOM_MUN_Clean'] = dataset_inegi_clean_2021['NOM_MUN'].apply(clean_text)\n",
    "dataset_inegi_clean_2021['NOM_LOC_Clean'] = dataset_inegi_clean_2021['NOM_LOC'].apply(clean_text)"
   ]
  },
  {
   "cell_type": "code",
   "execution_count": 26,
   "metadata": {},
   "outputs": [],
   "source": [
    "dataset_inegi_clean_2022['NOM_ENT_Clean'] = dataset_inegi_clean_2022['NOM_ENT'].apply(clean_text)\n",
    "dataset_inegi_clean_2022['NOM_MUN_Clean'] = dataset_inegi_clean_2022['NOM_MUN'].apply(clean_text)\n",
    "dataset_inegi_clean_2022['NOM_LOC_Clean'] = dataset_inegi_clean_2022['NOM_LOC'].apply(clean_text)"
   ]
  },
  {
   "cell_type": "code",
   "execution_count": 27,
   "metadata": {},
   "outputs": [
    {
     "data": {
      "text/plain": [
       "(299568, 10)"
      ]
     },
     "execution_count": 27,
     "metadata": {},
     "output_type": "execute_result"
    }
   ],
   "source": [
    "dataset_inegi_clean.shape"
   ]
  },
  {
   "cell_type": "code",
   "execution_count": 28,
   "metadata": {},
   "outputs": [
    {
     "data": {
      "text/plain": [
       "(300240, 10)"
      ]
     },
     "execution_count": 28,
     "metadata": {},
     "output_type": "execute_result"
    }
   ],
   "source": [
    "dataset_inegi_clean_2022.shape"
   ]
  },
  {
   "cell_type": "code",
   "execution_count": 29,
   "metadata": {},
   "outputs": [
    {
     "data": {
      "text/plain": [
       "CVE_ENT              object\n",
       "Entidad_inegi        object\n",
       "CVE_MUN              object\n",
       "Municipio_inegi      object\n",
       "CVE_LOC               int64\n",
       "Localidad_inegi      object\n",
       "POB_TOTAL            object\n",
       "Entidad_c_inegi      object\n",
       "Municipio_c_inegi    object\n",
       "Localidad_c_inegi    object\n",
       "dtype: object"
      ]
     },
     "execution_count": 29,
     "metadata": {},
     "output_type": "execute_result"
    }
   ],
   "source": [
    "# Renombrar las columnas\n",
    "dataset_inegi_clean.rename(columns={\n",
    "    'CVE_ENT': 'CVE_ENT',\n",
    "    'NOM_ENT': 'Entidad_inegi',\n",
    "    'CVE_MUN': 'CVE_MUN',\n",
    "    'NOM_MUN': 'Municipio_inegi',\n",
    "    'CVE_LOC': 'CVE_LOC',\n",
    "    'NOM_LOC': 'Localidad_inegi',\n",
    "    'NOM_ENT_Clean': 'Entidad_c_inegi',\n",
    "    'NOM_MUN_Clean': 'Municipio_c_inegi',\n",
    "    'NOM_LOC_Clean': 'Localidad_c_inegi'\n",
    "}, inplace=True)\n",
    "\n",
    "#dataset_inegi['CVE_LOC'] = dataset_inegi['CVE_LOC'].astype(str)\n",
    "# Las claves de entidad y municipio serán tratadas numéricamente en la limpieza aunque posteriormente se les asignará el tipo de cadena de texto para tener el estándar.\n",
    "dataset_inegi_clean.dtypes"
   ]
  },
  {
   "cell_type": "code",
   "execution_count": 30,
   "metadata": {},
   "outputs": [
    {
     "data": {
      "text/plain": [
       "CVE_ENT              object\n",
       "Entidad_inegi        object\n",
       "CVE_MUN              object\n",
       "Municipio_inegi      object\n",
       "CVE_LOC               int64\n",
       "Localidad_inegi      object\n",
       "POB_TOTAL            object\n",
       "Entidad_c_inegi      object\n",
       "Municipio_c_inegi    object\n",
       "Localidad_c_inegi    object\n",
       "dtype: object"
      ]
     },
     "execution_count": 30,
     "metadata": {},
     "output_type": "execute_result"
    }
   ],
   "source": [
    "# Renombrar las columnas\n",
    "dataset_inegi_clean_2019.rename(columns={\n",
    "    'CVE_ENT': 'CVE_ENT',\n",
    "    'NOM_ENT': 'Entidad_inegi',\n",
    "    'CVE_MUN': 'CVE_MUN',\n",
    "    'NOM_MUN': 'Municipio_inegi',\n",
    "    'CVE_LOC': 'CVE_LOC',\n",
    "    'NOM_LOC': 'Localidad_inegi',\n",
    "    'NOM_ENT_Clean': 'Entidad_c_inegi',\n",
    "    'NOM_MUN_Clean': 'Municipio_c_inegi',\n",
    "    'NOM_LOC_Clean': 'Localidad_c_inegi'\n",
    "}, inplace=True)\n",
    "\n",
    "#dataset_inegi['CVE_LOC'] = dataset_inegi['CVE_LOC'].astype(str)\n",
    "# Las claves de entidad y municipio serán tratadas numéricamente en la limpieza aunque posteriormente se les asignará el tipo de cadena de texto para tener el estándar.\n",
    "dataset_inegi_clean_2019.dtypes"
   ]
  },
  {
   "cell_type": "code",
   "execution_count": 31,
   "metadata": {},
   "outputs": [
    {
     "data": {
      "text/plain": [
       "CVE_ENT              object\n",
       "Entidad_inegi        object\n",
       "CVE_MUN              object\n",
       "Municipio_inegi      object\n",
       "CVE_LOC               int64\n",
       "Localidad_inegi      object\n",
       "POB_TOTAL             int64\n",
       "Entidad_c_inegi      object\n",
       "Municipio_c_inegi    object\n",
       "Localidad_c_inegi    object\n",
       "dtype: object"
      ]
     },
     "execution_count": 31,
     "metadata": {},
     "output_type": "execute_result"
    }
   ],
   "source": [
    "# Renombrar las columnas\n",
    "dataset_inegi_clean_2020.rename(columns={\n",
    "    'CVE_ENT': 'CVE_ENT',\n",
    "    'NOM_ENT': 'Entidad_inegi',\n",
    "    'CVE_MUN': 'CVE_MUN',\n",
    "    'NOM_MUN': 'Municipio_inegi',\n",
    "    'CVE_LOC': 'CVE_LOC',\n",
    "    'NOM_LOC': 'Localidad_inegi',\n",
    "    'NOM_ENT_Clean': 'Entidad_c_inegi',\n",
    "    'NOM_MUN_Clean': 'Municipio_c_inegi',\n",
    "    'NOM_LOC_Clean': 'Localidad_c_inegi'\n",
    "}, inplace=True)\n",
    "\n",
    "#dataset_inegi['CVE_LOC'] = dataset_inegi['CVE_LOC'].astype(str)\n",
    "# Las claves de entidad y municipio serán tratadas numéricamente en la limpieza aunque posteriormente se les asignará el tipo de cadena de texto para tener el estándar.\n",
    "dataset_inegi_clean_2020.dtypes"
   ]
  },
  {
   "cell_type": "code",
   "execution_count": 32,
   "metadata": {},
   "outputs": [
    {
     "data": {
      "text/plain": [
       "CVE_ENT              object\n",
       "Entidad_inegi        object\n",
       "CVE_MUN              object\n",
       "Municipio_inegi      object\n",
       "CVE_LOC               int64\n",
       "Localidad_inegi      object\n",
       "POB_TOTAL            object\n",
       "Entidad_c_inegi      object\n",
       "Municipio_c_inegi    object\n",
       "Localidad_c_inegi    object\n",
       "dtype: object"
      ]
     },
     "execution_count": 32,
     "metadata": {},
     "output_type": "execute_result"
    }
   ],
   "source": [
    "# Renombrar las columnas\n",
    "dataset_inegi_clean_2021.rename(columns={\n",
    "    'CVE_ENT': 'CVE_ENT',\n",
    "    'NOM_ENT': 'Entidad_inegi',\n",
    "    'CVE_MUN': 'CVE_MUN',\n",
    "    'NOM_MUN': 'Municipio_inegi',\n",
    "    'CVE_LOC': 'CVE_LOC',\n",
    "    'NOM_LOC': 'Localidad_inegi',\n",
    "    'NOM_ENT_Clean': 'Entidad_c_inegi',\n",
    "    'NOM_MUN_Clean': 'Municipio_c_inegi',\n",
    "    'NOM_LOC_Clean': 'Localidad_c_inegi'\n",
    "}, inplace=True)\n",
    "\n",
    "#dataset_inegi['CVE_LOC'] = dataset_inegi['CVE_LOC'].astype(str)\n",
    "# Las claves de entidad y municipio serán tratadas numéricamente en la limpieza aunque posteriormente se les asignará el tipo de cadena de texto para tener el estándar.\n",
    "dataset_inegi_clean_2021.dtypes"
   ]
  },
  {
   "cell_type": "code",
   "execution_count": 33,
   "metadata": {},
   "outputs": [
    {
     "data": {
      "text/plain": [
       "CVE_ENT              object\n",
       "Entidad_inegi        object\n",
       "CVE_MUN              object\n",
       "Municipio_inegi      object\n",
       "CVE_LOC               int64\n",
       "Localidad_inegi      object\n",
       "POB_TOTAL            object\n",
       "Entidad_c_inegi      object\n",
       "Municipio_c_inegi    object\n",
       "Localidad_c_inegi    object\n",
       "dtype: object"
      ]
     },
     "execution_count": 33,
     "metadata": {},
     "output_type": "execute_result"
    }
   ],
   "source": [
    "# Renombrar las columnas\n",
    "dataset_inegi_clean_2022.rename(columns={\n",
    "    'CVE_ENT': 'CVE_ENT',\n",
    "    'NOM_ENT': 'Entidad_inegi',\n",
    "    'CVE_MUN': 'CVE_MUN',\n",
    "    'NOM_MUN': 'Municipio_inegi',\n",
    "    'CVE_LOC': 'CVE_LOC',\n",
    "    'NOM_LOC': 'Localidad_inegi',\n",
    "    'NOM_ENT_Clean': 'Entidad_c_inegi',\n",
    "    'NOM_MUN_Clean': 'Municipio_c_inegi',\n",
    "    'NOM_LOC_Clean': 'Localidad_c_inegi'\n",
    "}, inplace=True)\n",
    "\n",
    "#dataset_inegi['CVE_LOC'] = dataset_inegi['CVE_LOC'].astype(str)\n",
    "# Las claves de entidad y municipio serán tratadas numéricamente en la limpieza aunque posteriormente se les asignará el tipo de cadena de texto para tener el estándar.\n",
    "dataset_inegi_clean_2022.dtypes"
   ]
  },
  {
   "cell_type": "code",
   "execution_count": 34,
   "metadata": {},
   "outputs": [],
   "source": [
    "dataset_inegi_clean.to_csv('../../data/inegi/dataset_inegi_clean.csv', index=False)"
   ]
  },
  {
   "cell_type": "code",
   "execution_count": 35,
   "metadata": {},
   "outputs": [],
   "source": [
    "dataset_inegi_clean_2019.to_csv('../../data/inegi/dataset_inegi_clean_2019.csv', index=False)"
   ]
  },
  {
   "cell_type": "code",
   "execution_count": 36,
   "metadata": {},
   "outputs": [],
   "source": [
    "dataset_inegi_clean_2020.to_csv('../../data/inegi/dataset_inegi_clean_2020.csv', index=False)"
   ]
  },
  {
   "cell_type": "code",
   "execution_count": 37,
   "metadata": {},
   "outputs": [],
   "source": [
    "dataset_inegi_clean_2021.to_csv('../../data/inegi/dataset_inegi_clean_2021.csv', index=False)"
   ]
  },
  {
   "cell_type": "code",
   "execution_count": 38,
   "metadata": {},
   "outputs": [],
   "source": [
    "dataset_inegi_clean_2022.to_csv('../../data/inegi/dataset_inegi_clean_2022.csv', index=False)"
   ]
  }
 ],
 "metadata": {
  "kernelspec": {
   "display_name": "Python 3",
   "language": "python",
   "name": "python3"
  },
  "language_info": {
   "codemirror_mode": {
    "name": "ipython",
    "version": 3
   },
   "file_extension": ".py",
   "mimetype": "text/x-python",
   "name": "python",
   "nbconvert_exporter": "python",
   "pygments_lexer": "ipython3",
   "version": "3.9.9"
  }
 },
 "nbformat": 4,
 "nbformat_minor": 2
}
