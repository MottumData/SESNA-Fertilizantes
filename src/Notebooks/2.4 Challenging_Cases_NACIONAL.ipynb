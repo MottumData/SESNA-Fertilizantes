{
 "cells": [
  {
   "cell_type": "code",
   "id": "1f3d289b",
   "metadata": {
    "ExecuteTime": {
     "end_time": "2024-07-09T17:07:16.919394Z",
     "start_time": "2024-07-09T17:07:16.910872Z"
    }
   },
   "source": [
    "import pandas as pd\n",
    "import unicodedata\n",
    "import re\n",
    "import numpy as np"
   ],
   "outputs": [],
   "execution_count": 1
  },
  {
   "metadata": {
    "ExecuteTime": {
     "end_time": "2024-07-09T17:07:16.935774Z",
     "start_time": "2024-07-09T17:07:16.926900Z"
    }
   },
   "cell_type": "code",
   "source": [
    "# Función para remover acentos y caracteres especiales\n",
    "def remover_acentos(cadena):\n",
    "    cadena = unicodedata.normalize('NFD', cadena)\n",
    "    cadena = cadena.encode('ascii', 'ignore').decode('utf-8')\n",
    "    return cadena"
   ],
   "id": "264be6306cf4e048",
   "outputs": [],
   "execution_count": 2
  },
  {
   "metadata": {},
   "cell_type": "markdown",
   "source": "# Cargar los datasets",
   "id": "23776c1360d1854e"
  },
  {
   "cell_type": "code",
   "id": "687d55a7",
   "metadata": {
    "ExecuteTime": {
     "end_time": "2024-07-09T17:07:23.729361Z",
     "start_time": "2024-07-09T17:07:16.940228Z"
    }
   },
   "source": "beneficiarios_complete = pd.read_csv('../../data/productores_beneficiarios/LISTADO_BENEFICIARIOS2023_COMPLETO.csv')",
   "outputs": [],
   "execution_count": 3
  },
  {
   "cell_type": "code",
   "id": "ba5cc46d",
   "metadata": {
    "ExecuteTime": {
     "end_time": "2024-07-09T17:07:30.308220Z",
     "start_time": "2024-07-09T17:07:23.732371Z"
    }
   },
   "source": "autorizados_complete = pd.read_csv('../../data/productores_autorizados/listado_productores_complete.csv')",
   "outputs": [],
   "execution_count": 4
  },
  {
   "cell_type": "code",
   "id": "fc72d63b",
   "metadata": {
    "ExecuteTime": {
     "end_time": "2024-07-09T17:07:31.870876Z",
     "start_time": "2024-07-09T17:07:30.314757Z"
    }
   },
   "source": "benef_2019 = pd.read_csv('../../data/productores_beneficiarios 2019-2022/fertilizantes_2019.csv')",
   "outputs": [],
   "execution_count": 5
  },
  {
   "cell_type": "code",
   "id": "2d9461b8",
   "metadata": {
    "ExecuteTime": {
     "end_time": "2024-07-09T17:07:33.517992Z",
     "start_time": "2024-07-09T17:07:31.875415Z"
    }
   },
   "source": "benef_2020 = pd.read_csv('../../data/productores_beneficiarios 2019-2022/listado_beneficiarios_fertilizantes_2020.csv')",
   "outputs": [],
   "execution_count": 6
  },
  {
   "cell_type": "code",
   "id": "1ae9ddd4",
   "metadata": {
    "ExecuteTime": {
     "end_time": "2024-07-09T17:07:33.541517Z",
     "start_time": "2024-07-09T17:07:33.524435Z"
    }
   },
   "source": [
    "print(\"Listado de Beneficiarios 2023: \", beneficiarios_complete.shape)\n",
    "print(\"Listado de Productores Autorizados: \", autorizados_complete.shape)\n",
    "print(\"Listado de Beneficiarios 2019: \", benef_2019.shape)\n",
    "print(\"Listado de Beneficiarios 2020: \", benef_2020.shape)"
   ],
   "outputs": [
    {
     "name": "stdout",
     "output_type": "stream",
     "text": [
      "Listado de Beneficiarios 2023:  (1680105, 12)\n",
      "Listado de Productores Autorizados:  (1628170, 12)\n",
      "Listado de Beneficiarios 2019:  (278550, 16)\n",
      "Listado de Beneficiarios 2020:  (369124, 16)\n"
     ]
    }
   ],
   "execution_count": 7
  },
  {
   "metadata": {},
   "cell_type": "markdown",
   "source": "# Valores 'Nacional' en Beneficiarios de 2019",
   "id": "7c178faea7a0eca0"
  },
  {
   "cell_type": "code",
   "id": "9d86b8d6",
   "metadata": {
    "ExecuteTime": {
     "end_time": "2024-07-09T17:07:33.626668Z",
     "start_time": "2024-07-09T17:07:33.543531Z"
    }
   },
   "source": [
    "# Filtrar las filas donde ENTIDAD es 'NACIONAL'\n",
    "benef_2019_nacional = benef_2019.loc[(benef_2019['ENTIDAD'] == 'NACIONAL') &\n",
    "                                     (benef_2019['MUNICIPIO'] == 'NACIONAL') &\n",
    "                                     (benef_2019['LOCALIDAD'] == 'NACIONAL')]\n",
    "\n",
    "benef_2019_nacional['FECHA'] = \"2019\"\n",
    "print(\"Listado de beneficiario con valores NACIONAL: \", benef_2019_nacional.shape)"
   ],
   "outputs": [
    {
     "name": "stdout",
     "output_type": "stream",
     "text": [
      "Listado de beneficiario con valores NACIONAL:  (3524, 16)\n"
     ]
    },
    {
     "name": "stderr",
     "output_type": "stream",
     "text": [
      "C:\\Users\\aorti\\AppData\\Local\\Temp\\ipykernel_37824\\1377694750.py:6: SettingWithCopyWarning: \n",
      "A value is trying to be set on a copy of a slice from a DataFrame.\n",
      "Try using .loc[row_indexer,col_indexer] = value instead\n",
      "\n",
      "See the caveats in the documentation: https://pandas.pydata.org/pandas-docs/stable/user_guide/indexing.html#returning-a-view-versus-a-copy\n",
      "  benef_2019_nacional['FECHA'] = \"2019\"\n"
     ]
    }
   ],
   "execution_count": 8
  },
  {
   "cell_type": "code",
   "id": "4fd3f6f9",
   "metadata": {
    "ExecuteTime": {
     "end_time": "2024-07-09T17:07:33.662878Z",
     "start_time": "2024-07-09T17:07:33.632240Z"
    }
   },
   "source": "benef_2019_nacional.head()",
   "outputs": [
    {
     "data": {
      "text/plain": [
       "                    BENEFICIARIO      ZONA   ENTIDAD MUNICIPIO LOCALIDAD  \\\n",
       "14    SANCHEZ RODRIGUEZ MARCELO   NACIONAL  NACIONAL  NACIONAL  NACIONAL   \n",
       "96            GARCIA NAVA MARIA   NACIONAL  NACIONAL  NACIONAL  NACIONAL   \n",
       "115      ROGEL ABELAR ELIZABETH   NACIONAL  NACIONAL  NACIONAL  NACIONAL   \n",
       "152        DEGANTE ALDAY ESTHER   NACIONAL  NACIONAL  NACIONAL  NACIONAL   \n",
       "339  HERNANDEZ MORALES BERNARDO   NACIONAL  NACIONAL  NACIONAL  NACIONAL   \n",
       "\n",
       "    ESTRATIFICACIÓN       PROGRAMA     COMPONENTE  SUBCOMPONENTE  \\\n",
       "14        SC-CONAPO  FERTILIZANTES  FERTILIZANTES  FERTILIZANTES   \n",
       "96        SC-CONAPO  FERTILIZANTES  FERTILIZANTES  FERTILIZANTES   \n",
       "115       SC-CONAPO  FERTILIZANTES  FERTILIZANTES  FERTILIZANTES   \n",
       "152       SC-CONAPO  FERTILIZANTES  FERTILIZANTES  FERTILIZANTES   \n",
       "339       SC-CONAPO  FERTILIZANTES  FERTILIZANTES  FERTILIZANTES   \n",
       "\n",
       "                  PRODUCTO FECHA  MONTO FEDERAL          APOYO ACTIVIDAD  \\\n",
       "14   Cultivo de maíz grano  2019        2430.55  Fertilizantes   AGRARIA   \n",
       "96   Cultivo de maíz grano  2019        2430.55  Fertilizantes   AGRARIA   \n",
       "115  Cultivo de maíz grano  2019         239.00  Fertilizantes   AGRARIA   \n",
       "152  Cultivo de maíz grano  2019        2430.55  Fertilizantes   AGRARIA   \n",
       "339  Cultivo de maíz grano  2019        2191.55  Fertilizantes   AGRARIA   \n",
       "\n",
       "     ESLABÓN CICLO AGRÍCOLA  \n",
       "14   AGRARIA         PV2019  \n",
       "96   AGRARIA         PV2019  \n",
       "115  AGRARIA         PV2019  \n",
       "152  AGRARIA         PV2019  \n",
       "339  AGRARIA         PV2019  "
      ],
      "text/html": [
       "<div>\n",
       "<style scoped>\n",
       "    .dataframe tbody tr th:only-of-type {\n",
       "        vertical-align: middle;\n",
       "    }\n",
       "\n",
       "    .dataframe tbody tr th {\n",
       "        vertical-align: top;\n",
       "    }\n",
       "\n",
       "    .dataframe thead th {\n",
       "        text-align: right;\n",
       "    }\n",
       "</style>\n",
       "<table border=\"1\" class=\"dataframe\">\n",
       "  <thead>\n",
       "    <tr style=\"text-align: right;\">\n",
       "      <th></th>\n",
       "      <th>BENEFICIARIO</th>\n",
       "      <th>ZONA</th>\n",
       "      <th>ENTIDAD</th>\n",
       "      <th>MUNICIPIO</th>\n",
       "      <th>LOCALIDAD</th>\n",
       "      <th>ESTRATIFICACIÓN</th>\n",
       "      <th>PROGRAMA</th>\n",
       "      <th>COMPONENTE</th>\n",
       "      <th>SUBCOMPONENTE</th>\n",
       "      <th>PRODUCTO</th>\n",
       "      <th>FECHA</th>\n",
       "      <th>MONTO FEDERAL</th>\n",
       "      <th>APOYO</th>\n",
       "      <th>ACTIVIDAD</th>\n",
       "      <th>ESLABÓN</th>\n",
       "      <th>CICLO AGRÍCOLA</th>\n",
       "    </tr>\n",
       "  </thead>\n",
       "  <tbody>\n",
       "    <tr>\n",
       "      <th>14</th>\n",
       "      <td>SANCHEZ RODRIGUEZ MARCELO</td>\n",
       "      <td>NACIONAL</td>\n",
       "      <td>NACIONAL</td>\n",
       "      <td>NACIONAL</td>\n",
       "      <td>NACIONAL</td>\n",
       "      <td>SC-CONAPO</td>\n",
       "      <td>FERTILIZANTES</td>\n",
       "      <td>FERTILIZANTES</td>\n",
       "      <td>FERTILIZANTES</td>\n",
       "      <td>Cultivo de maíz grano</td>\n",
       "      <td>2019</td>\n",
       "      <td>2430.55</td>\n",
       "      <td>Fertilizantes</td>\n",
       "      <td>AGRARIA</td>\n",
       "      <td>AGRARIA</td>\n",
       "      <td>PV2019</td>\n",
       "    </tr>\n",
       "    <tr>\n",
       "      <th>96</th>\n",
       "      <td>GARCIA NAVA MARIA</td>\n",
       "      <td>NACIONAL</td>\n",
       "      <td>NACIONAL</td>\n",
       "      <td>NACIONAL</td>\n",
       "      <td>NACIONAL</td>\n",
       "      <td>SC-CONAPO</td>\n",
       "      <td>FERTILIZANTES</td>\n",
       "      <td>FERTILIZANTES</td>\n",
       "      <td>FERTILIZANTES</td>\n",
       "      <td>Cultivo de maíz grano</td>\n",
       "      <td>2019</td>\n",
       "      <td>2430.55</td>\n",
       "      <td>Fertilizantes</td>\n",
       "      <td>AGRARIA</td>\n",
       "      <td>AGRARIA</td>\n",
       "      <td>PV2019</td>\n",
       "    </tr>\n",
       "    <tr>\n",
       "      <th>115</th>\n",
       "      <td>ROGEL ABELAR ELIZABETH</td>\n",
       "      <td>NACIONAL</td>\n",
       "      <td>NACIONAL</td>\n",
       "      <td>NACIONAL</td>\n",
       "      <td>NACIONAL</td>\n",
       "      <td>SC-CONAPO</td>\n",
       "      <td>FERTILIZANTES</td>\n",
       "      <td>FERTILIZANTES</td>\n",
       "      <td>FERTILIZANTES</td>\n",
       "      <td>Cultivo de maíz grano</td>\n",
       "      <td>2019</td>\n",
       "      <td>239.00</td>\n",
       "      <td>Fertilizantes</td>\n",
       "      <td>AGRARIA</td>\n",
       "      <td>AGRARIA</td>\n",
       "      <td>PV2019</td>\n",
       "    </tr>\n",
       "    <tr>\n",
       "      <th>152</th>\n",
       "      <td>DEGANTE ALDAY ESTHER</td>\n",
       "      <td>NACIONAL</td>\n",
       "      <td>NACIONAL</td>\n",
       "      <td>NACIONAL</td>\n",
       "      <td>NACIONAL</td>\n",
       "      <td>SC-CONAPO</td>\n",
       "      <td>FERTILIZANTES</td>\n",
       "      <td>FERTILIZANTES</td>\n",
       "      <td>FERTILIZANTES</td>\n",
       "      <td>Cultivo de maíz grano</td>\n",
       "      <td>2019</td>\n",
       "      <td>2430.55</td>\n",
       "      <td>Fertilizantes</td>\n",
       "      <td>AGRARIA</td>\n",
       "      <td>AGRARIA</td>\n",
       "      <td>PV2019</td>\n",
       "    </tr>\n",
       "    <tr>\n",
       "      <th>339</th>\n",
       "      <td>HERNANDEZ MORALES BERNARDO</td>\n",
       "      <td>NACIONAL</td>\n",
       "      <td>NACIONAL</td>\n",
       "      <td>NACIONAL</td>\n",
       "      <td>NACIONAL</td>\n",
       "      <td>SC-CONAPO</td>\n",
       "      <td>FERTILIZANTES</td>\n",
       "      <td>FERTILIZANTES</td>\n",
       "      <td>FERTILIZANTES</td>\n",
       "      <td>Cultivo de maíz grano</td>\n",
       "      <td>2019</td>\n",
       "      <td>2191.55</td>\n",
       "      <td>Fertilizantes</td>\n",
       "      <td>AGRARIA</td>\n",
       "      <td>AGRARIA</td>\n",
       "      <td>PV2019</td>\n",
       "    </tr>\n",
       "  </tbody>\n",
       "</table>\n",
       "</div>"
      ]
     },
     "execution_count": 9,
     "metadata": {},
     "output_type": "execute_result"
    }
   ],
   "execution_count": 9
  },
  {
   "metadata": {},
   "cell_type": "markdown",
   "source": "# Valores 'Nacional' en Beneficiarios 2020",
   "id": "dead7a97430400fa"
  },
  {
   "metadata": {
    "ExecuteTime": {
     "end_time": "2024-07-09T17:07:33.743557Z",
     "start_time": "2024-07-09T17:07:33.666885Z"
    }
   },
   "cell_type": "code",
   "source": [
    "benef_2020_nacional = benef_2020.loc[(benef_2020['ENTIDAD'] == 'NACIONAL') &\n",
    "                                     (benef_2020['MUNICIPIO'] == 'NACIONAL') &\n",
    "                                     (benef_2020['LOCALIDAD'] == 'NACIONAL')]\n",
    "benef_2020_nacional['FECHA'] = \"2020\"\n",
    "print(\"Listado de beneficiario con valores NACIONAL: \", benef_2020_nacional.shape)"
   ],
   "id": "53cf4965c2d42582",
   "outputs": [
    {
     "name": "stdout",
     "output_type": "stream",
     "text": [
      "Listado de beneficiario con valores NACIONAL:  (84, 16)\n"
     ]
    },
    {
     "name": "stderr",
     "output_type": "stream",
     "text": [
      "C:\\Users\\aorti\\AppData\\Local\\Temp\\ipykernel_37824\\3683125173.py:4: SettingWithCopyWarning: \n",
      "A value is trying to be set on a copy of a slice from a DataFrame.\n",
      "Try using .loc[row_indexer,col_indexer] = value instead\n",
      "\n",
      "See the caveats in the documentation: https://pandas.pydata.org/pandas-docs/stable/user_guide/indexing.html#returning-a-view-versus-a-copy\n",
      "  benef_2020_nacional['FECHA'] = \"2020\"\n"
     ]
    }
   ],
   "execution_count": 10
  },
  {
   "metadata": {
    "ExecuteTime": {
     "end_time": "2024-07-09T17:07:33.762916Z",
     "start_time": "2024-07-09T17:07:33.744570Z"
    }
   },
   "cell_type": "code",
   "source": "benef_2020_nacional.head()",
   "id": "16cfa85fb2ee4c62",
   "outputs": [
    {
     "data": {
      "text/plain": [
       "                       BENEFICIARIO      ZONA   ENTIDAD MUNICIPIO LOCALIDAD  \\\n",
       "91   VILLANUEVA VAZQUEZ BERNARDINA   NACIONAL  NACIONAL  NACIONAL  NACIONAL   \n",
       "92        VILLANUEVA TIAPA CLAUDIA   NACIONAL  NACIONAL  NACIONAL  NACIONAL   \n",
       "239        REYES SOLANO LAS NIEVES   NACIONAL  NACIONAL  NACIONAL  NACIONAL   \n",
       "286          PANTALEON DIAZ ISIDRA   NACIONAL  NACIONAL  NACIONAL  NACIONAL   \n",
       "287         PALACIOS MUÑOZ ALBERTA   NACIONAL  NACIONAL  NACIONAL  NACIONAL   \n",
       "\n",
       "    ESTRATIFICACIÓN       PROGRAMA     COMPONENTE  SUBCOMPONENTE  \\\n",
       "91       SC- CONAPO  FERTILIZANTES  FERTILIZANTES  FERTILIZANTES   \n",
       "92       SC- CONAPO  FERTILIZANTES  FERTILIZANTES  FERTILIZANTES   \n",
       "239      SC- CONAPO  FERTILIZANTES  FERTILIZANTES  FERTILIZANTES   \n",
       "286      SC- CONAPO  FERTILIZANTES  FERTILIZANTES  FERTILIZANTES   \n",
       "287      SC- CONAPO  FERTILIZANTES  FERTILIZANTES  FERTILIZANTES   \n",
       "\n",
       "                  PRODUCTO FECHA  MONTO FEDERAL          APOYO ACTIVIDAD  \\\n",
       "91   Cultivo de maíz grano  2020        6163.44  Fertilizantes   AGRARIA   \n",
       "92   Cultivo de maíz grano  2020        3081.72  Fertilizantes   AGRARIA   \n",
       "239  Cultivo de maíz grano  2020        3081.72  Fertilizantes   AGRARIA   \n",
       "286  Cultivo de maíz grano  2020        3081.72  Fertilizantes   AGRARIA   \n",
       "287  Cultivo de maíz grano  2020        3081.72  Fertilizantes   AGRARIA   \n",
       "\n",
       "     ESLABÓN CICLO AGRÍCOLA  \n",
       "91   AGRARIA         PV2020  \n",
       "92   AGRARIA         PV2020  \n",
       "239  AGRARIA         PV2020  \n",
       "286  AGRARIA         PV2020  \n",
       "287  AGRARIA         PV2020  "
      ],
      "text/html": [
       "<div>\n",
       "<style scoped>\n",
       "    .dataframe tbody tr th:only-of-type {\n",
       "        vertical-align: middle;\n",
       "    }\n",
       "\n",
       "    .dataframe tbody tr th {\n",
       "        vertical-align: top;\n",
       "    }\n",
       "\n",
       "    .dataframe thead th {\n",
       "        text-align: right;\n",
       "    }\n",
       "</style>\n",
       "<table border=\"1\" class=\"dataframe\">\n",
       "  <thead>\n",
       "    <tr style=\"text-align: right;\">\n",
       "      <th></th>\n",
       "      <th>BENEFICIARIO</th>\n",
       "      <th>ZONA</th>\n",
       "      <th>ENTIDAD</th>\n",
       "      <th>MUNICIPIO</th>\n",
       "      <th>LOCALIDAD</th>\n",
       "      <th>ESTRATIFICACIÓN</th>\n",
       "      <th>PROGRAMA</th>\n",
       "      <th>COMPONENTE</th>\n",
       "      <th>SUBCOMPONENTE</th>\n",
       "      <th>PRODUCTO</th>\n",
       "      <th>FECHA</th>\n",
       "      <th>MONTO FEDERAL</th>\n",
       "      <th>APOYO</th>\n",
       "      <th>ACTIVIDAD</th>\n",
       "      <th>ESLABÓN</th>\n",
       "      <th>CICLO AGRÍCOLA</th>\n",
       "    </tr>\n",
       "  </thead>\n",
       "  <tbody>\n",
       "    <tr>\n",
       "      <th>91</th>\n",
       "      <td>VILLANUEVA VAZQUEZ BERNARDINA</td>\n",
       "      <td>NACIONAL</td>\n",
       "      <td>NACIONAL</td>\n",
       "      <td>NACIONAL</td>\n",
       "      <td>NACIONAL</td>\n",
       "      <td>SC- CONAPO</td>\n",
       "      <td>FERTILIZANTES</td>\n",
       "      <td>FERTILIZANTES</td>\n",
       "      <td>FERTILIZANTES</td>\n",
       "      <td>Cultivo de maíz grano</td>\n",
       "      <td>2020</td>\n",
       "      <td>6163.44</td>\n",
       "      <td>Fertilizantes</td>\n",
       "      <td>AGRARIA</td>\n",
       "      <td>AGRARIA</td>\n",
       "      <td>PV2020</td>\n",
       "    </tr>\n",
       "    <tr>\n",
       "      <th>92</th>\n",
       "      <td>VILLANUEVA TIAPA CLAUDIA</td>\n",
       "      <td>NACIONAL</td>\n",
       "      <td>NACIONAL</td>\n",
       "      <td>NACIONAL</td>\n",
       "      <td>NACIONAL</td>\n",
       "      <td>SC- CONAPO</td>\n",
       "      <td>FERTILIZANTES</td>\n",
       "      <td>FERTILIZANTES</td>\n",
       "      <td>FERTILIZANTES</td>\n",
       "      <td>Cultivo de maíz grano</td>\n",
       "      <td>2020</td>\n",
       "      <td>3081.72</td>\n",
       "      <td>Fertilizantes</td>\n",
       "      <td>AGRARIA</td>\n",
       "      <td>AGRARIA</td>\n",
       "      <td>PV2020</td>\n",
       "    </tr>\n",
       "    <tr>\n",
       "      <th>239</th>\n",
       "      <td>REYES SOLANO LAS NIEVES</td>\n",
       "      <td>NACIONAL</td>\n",
       "      <td>NACIONAL</td>\n",
       "      <td>NACIONAL</td>\n",
       "      <td>NACIONAL</td>\n",
       "      <td>SC- CONAPO</td>\n",
       "      <td>FERTILIZANTES</td>\n",
       "      <td>FERTILIZANTES</td>\n",
       "      <td>FERTILIZANTES</td>\n",
       "      <td>Cultivo de maíz grano</td>\n",
       "      <td>2020</td>\n",
       "      <td>3081.72</td>\n",
       "      <td>Fertilizantes</td>\n",
       "      <td>AGRARIA</td>\n",
       "      <td>AGRARIA</td>\n",
       "      <td>PV2020</td>\n",
       "    </tr>\n",
       "    <tr>\n",
       "      <th>286</th>\n",
       "      <td>PANTALEON DIAZ ISIDRA</td>\n",
       "      <td>NACIONAL</td>\n",
       "      <td>NACIONAL</td>\n",
       "      <td>NACIONAL</td>\n",
       "      <td>NACIONAL</td>\n",
       "      <td>SC- CONAPO</td>\n",
       "      <td>FERTILIZANTES</td>\n",
       "      <td>FERTILIZANTES</td>\n",
       "      <td>FERTILIZANTES</td>\n",
       "      <td>Cultivo de maíz grano</td>\n",
       "      <td>2020</td>\n",
       "      <td>3081.72</td>\n",
       "      <td>Fertilizantes</td>\n",
       "      <td>AGRARIA</td>\n",
       "      <td>AGRARIA</td>\n",
       "      <td>PV2020</td>\n",
       "    </tr>\n",
       "    <tr>\n",
       "      <th>287</th>\n",
       "      <td>PALACIOS MUÑOZ ALBERTA</td>\n",
       "      <td>NACIONAL</td>\n",
       "      <td>NACIONAL</td>\n",
       "      <td>NACIONAL</td>\n",
       "      <td>NACIONAL</td>\n",
       "      <td>SC- CONAPO</td>\n",
       "      <td>FERTILIZANTES</td>\n",
       "      <td>FERTILIZANTES</td>\n",
       "      <td>FERTILIZANTES</td>\n",
       "      <td>Cultivo de maíz grano</td>\n",
       "      <td>2020</td>\n",
       "      <td>3081.72</td>\n",
       "      <td>Fertilizantes</td>\n",
       "      <td>AGRARIA</td>\n",
       "      <td>AGRARIA</td>\n",
       "      <td>PV2020</td>\n",
       "    </tr>\n",
       "  </tbody>\n",
       "</table>\n",
       "</div>"
      ]
     },
     "execution_count": 11,
     "metadata": {},
     "output_type": "execute_result"
    }
   ],
   "execution_count": 11
  },
  {
   "metadata": {},
   "cell_type": "markdown",
   "source": "#  Unión de Valores 'Nacional'",
   "id": "3b3206bbd23d9b3d"
  },
  {
   "metadata": {
    "ExecuteTime": {
     "end_time": "2024-07-09T17:07:33.780742Z",
     "start_time": "2024-07-09T17:07:33.767926Z"
    }
   },
   "cell_type": "code",
   "source": [
    "benef_nacional = pd.concat([benef_2019_nacional, benef_2020_nacional])\n",
    "print(\"Listado de beneficiario con valores NACIONAL: \", benef_nacional.shape)\n"
   ],
   "id": "db4aee7c7a3d8963",
   "outputs": [
    {
     "name": "stdout",
     "output_type": "stream",
     "text": [
      "Listado de beneficiario con valores NACIONAL:  (3608, 16)\n"
     ]
    }
   ],
   "execution_count": 12
  },
  {
   "metadata": {
    "ExecuteTime": {
     "end_time": "2024-07-09T17:07:33.801737Z",
     "start_time": "2024-07-09T17:07:33.784753Z"
    }
   },
   "cell_type": "code",
   "source": [
    "benef_nacional['key_name'] = (benef_nacional['BENEFICIARIO']\n",
    "                              .str.lower()\n",
    "                              .apply(remover_acentos)\n",
    "                              .str.replace(' ', ''))"
   ],
   "id": "6027ff130d608d35",
   "outputs": [],
   "execution_count": 13
  },
  {
   "metadata": {
    "ExecuteTime": {
     "end_time": "2024-07-09T17:07:33.818152Z",
     "start_time": "2024-07-09T17:07:33.803744Z"
    }
   },
   "cell_type": "code",
   "source": [
    "# Cantidad de valores nulos por columna\n",
    "benef_nacional.isnull().sum()"
   ],
   "id": "74c6fb40f3120351",
   "outputs": [
    {
     "data": {
      "text/plain": [
       "BENEFICIARIO       0\n",
       "ZONA               0\n",
       "ENTIDAD            0\n",
       "MUNICIPIO          0\n",
       "LOCALIDAD          0\n",
       "ESTRATIFICACIÓN    0\n",
       "PROGRAMA           0\n",
       "COMPONENTE         0\n",
       "SUBCOMPONENTE      0\n",
       "PRODUCTO           0\n",
       "FECHA              0\n",
       "MONTO FEDERAL      0\n",
       "APOYO              0\n",
       "ACTIVIDAD          0\n",
       "ESLABÓN            0\n",
       "CICLO AGRÍCOLA     0\n",
       "key_name           0\n",
       "dtype: int64"
      ]
     },
     "execution_count": 14,
     "metadata": {},
     "output_type": "execute_result"
    }
   ],
   "execution_count": 14
  },
  {
   "metadata": {
    "ExecuteTime": {
     "end_time": "2024-07-09T17:07:33.830500Z",
     "start_time": "2024-07-09T17:07:33.818664Z"
    }
   },
   "cell_type": "code",
   "source": [
    "# benef_nacional = benef_nacional[['BENEFICIARIO', 'key_name', 'ENTIDAD', 'MUNICIPIO', 'LOCALIDAD', 'FECHA']]\n",
    "print(\"Listado de beneficiario con valores NACIONAL: \", benef_nacional.shape)\n",
    "benef_nacional = benef_nacional.drop_duplicates(subset=['key_name', 'FECHA'])\n",
    "print(\"Listado de beneficiario con valores NACIONAL: \", benef_nacional.shape)\n"
   ],
   "id": "ff619af9e35c6c20",
   "outputs": [
    {
     "name": "stdout",
     "output_type": "stream",
     "text": [
      "Listado de beneficiario con valores NACIONAL:  (3608, 17)\n",
      "Listado de beneficiario con valores NACIONAL:  (3607, 17)\n"
     ]
    }
   ],
   "execution_count": 15
  },
  {
   "metadata": {},
   "cell_type": "markdown",
   "source": "# Buscar coincidencias en Beneficiarios 2023",
   "id": "d99d065d378f47f3"
  },
  {
   "cell_type": "code",
   "id": "8110f11a",
   "metadata": {
    "ExecuteTime": {
     "end_time": "2024-07-09T17:07:37.203637Z",
     "start_time": "2024-07-09T17:07:33.835510Z"
    }
   },
   "source": [
    "# Filtrar los registros que no tienen valores nulos en Apellido Paterno, Materno y Nombre\n",
    "# Asegurarse de que es una copia independiente con .copy()\n",
    "beneficiarios_complete = beneficiarios_complete.dropna(\n",
    "    subset=['APELLIDO PATERNO', 'APELLIDO MATERNO', 'NOMBRE (S)']).copy()\n",
    "\n",
    "# Crear la clave (nombre completo en minúsculas, sin acentos y sin espacios)\n",
    "beneficiarios_complete['key_name'] = ((beneficiarios_complete['APELLIDO PATERNO'] +\n",
    "                                       beneficiarios_complete['APELLIDO MATERNO'] +\n",
    "                                       beneficiarios_complete['NOMBRE (S)'])\n",
    "                                      .str.lower()\n",
    "                                      .apply(remover_acentos)\n",
    "                                      .str.replace(r' ', ''))"
   ],
   "outputs": [],
   "execution_count": 16
  },
  {
   "cell_type": "code",
   "id": "734deaf0",
   "metadata": {
    "ExecuteTime": {
     "end_time": "2024-07-09T17:07:37.227122Z",
     "start_time": "2024-07-09T17:07:37.207649Z"
    }
   },
   "source": "beneficiarios_complete.head()",
   "outputs": [
    {
     "data": {
      "text/plain": [
       "    ESTADO MUNICIPIO                   ACUSE ESTATAL APELLIDO PATERNO  \\\n",
       "0  SINALOA     AHOME  23-PROESFE-ESTR-000051-E000-SL          ABOITES   \n",
       "1  SINALOA     AHOME  23-PROESFE-ESTR-043733-E000-SL           ABOYTE   \n",
       "2  SINALOA     AHOME  23-PROESFE-ESTR-000052-E000-SL          ABOYTES   \n",
       "3  SINALOA     AHOME  23-PROESFE-ESTR-030724-E000-SL           ACOSTA   \n",
       "4  SINALOA     AHOME  23-PROESFE-ESTR-035928-E000-SL           ACOSTA   \n",
       "\n",
       "  APELLIDO MATERNO NOMBRE (S)  PAQUETE KEY_benef_Verificado Entidad_inegi  \\\n",
       "0          ARMENTA  FRANCISCO      4.0        sinaloa-ahome       Sinaloa   \n",
       "1             RUIZ     ISMAEL      7.0        sinaloa-ahome       Sinaloa   \n",
       "2          ARMENTA    RODOLFO      4.0        sinaloa-ahome       Sinaloa   \n",
       "3           BUELNA      EDGAR     10.0        sinaloa-ahome       Sinaloa   \n",
       "4           BUELNA  GUADALUPE      5.0        sinaloa-ahome       Sinaloa   \n",
       "\n",
       "  Municipio_inegi  CVE_ENT  CVE_MUN                 key_name  \n",
       "0           Ahome       25        1  aboitesarmentafrancisco  \n",
       "1           Ahome       25        1         aboyteruizismael  \n",
       "2           Ahome       25        1    aboytesarmentarodolfo  \n",
       "3           Ahome       25        1        acostabuelnaedgar  \n",
       "4           Ahome       25        1    acostabuelnaguadalupe  "
      ],
      "text/html": [
       "<div>\n",
       "<style scoped>\n",
       "    .dataframe tbody tr th:only-of-type {\n",
       "        vertical-align: middle;\n",
       "    }\n",
       "\n",
       "    .dataframe tbody tr th {\n",
       "        vertical-align: top;\n",
       "    }\n",
       "\n",
       "    .dataframe thead th {\n",
       "        text-align: right;\n",
       "    }\n",
       "</style>\n",
       "<table border=\"1\" class=\"dataframe\">\n",
       "  <thead>\n",
       "    <tr style=\"text-align: right;\">\n",
       "      <th></th>\n",
       "      <th>ESTADO</th>\n",
       "      <th>MUNICIPIO</th>\n",
       "      <th>ACUSE ESTATAL</th>\n",
       "      <th>APELLIDO PATERNO</th>\n",
       "      <th>APELLIDO MATERNO</th>\n",
       "      <th>NOMBRE (S)</th>\n",
       "      <th>PAQUETE</th>\n",
       "      <th>KEY_benef_Verificado</th>\n",
       "      <th>Entidad_inegi</th>\n",
       "      <th>Municipio_inegi</th>\n",
       "      <th>CVE_ENT</th>\n",
       "      <th>CVE_MUN</th>\n",
       "      <th>key_name</th>\n",
       "    </tr>\n",
       "  </thead>\n",
       "  <tbody>\n",
       "    <tr>\n",
       "      <th>0</th>\n",
       "      <td>SINALOA</td>\n",
       "      <td>AHOME</td>\n",
       "      <td>23-PROESFE-ESTR-000051-E000-SL</td>\n",
       "      <td>ABOITES</td>\n",
       "      <td>ARMENTA</td>\n",
       "      <td>FRANCISCO</td>\n",
       "      <td>4.0</td>\n",
       "      <td>sinaloa-ahome</td>\n",
       "      <td>Sinaloa</td>\n",
       "      <td>Ahome</td>\n",
       "      <td>25</td>\n",
       "      <td>1</td>\n",
       "      <td>aboitesarmentafrancisco</td>\n",
       "    </tr>\n",
       "    <tr>\n",
       "      <th>1</th>\n",
       "      <td>SINALOA</td>\n",
       "      <td>AHOME</td>\n",
       "      <td>23-PROESFE-ESTR-043733-E000-SL</td>\n",
       "      <td>ABOYTE</td>\n",
       "      <td>RUIZ</td>\n",
       "      <td>ISMAEL</td>\n",
       "      <td>7.0</td>\n",
       "      <td>sinaloa-ahome</td>\n",
       "      <td>Sinaloa</td>\n",
       "      <td>Ahome</td>\n",
       "      <td>25</td>\n",
       "      <td>1</td>\n",
       "      <td>aboyteruizismael</td>\n",
       "    </tr>\n",
       "    <tr>\n",
       "      <th>2</th>\n",
       "      <td>SINALOA</td>\n",
       "      <td>AHOME</td>\n",
       "      <td>23-PROESFE-ESTR-000052-E000-SL</td>\n",
       "      <td>ABOYTES</td>\n",
       "      <td>ARMENTA</td>\n",
       "      <td>RODOLFO</td>\n",
       "      <td>4.0</td>\n",
       "      <td>sinaloa-ahome</td>\n",
       "      <td>Sinaloa</td>\n",
       "      <td>Ahome</td>\n",
       "      <td>25</td>\n",
       "      <td>1</td>\n",
       "      <td>aboytesarmentarodolfo</td>\n",
       "    </tr>\n",
       "    <tr>\n",
       "      <th>3</th>\n",
       "      <td>SINALOA</td>\n",
       "      <td>AHOME</td>\n",
       "      <td>23-PROESFE-ESTR-030724-E000-SL</td>\n",
       "      <td>ACOSTA</td>\n",
       "      <td>BUELNA</td>\n",
       "      <td>EDGAR</td>\n",
       "      <td>10.0</td>\n",
       "      <td>sinaloa-ahome</td>\n",
       "      <td>Sinaloa</td>\n",
       "      <td>Ahome</td>\n",
       "      <td>25</td>\n",
       "      <td>1</td>\n",
       "      <td>acostabuelnaedgar</td>\n",
       "    </tr>\n",
       "    <tr>\n",
       "      <th>4</th>\n",
       "      <td>SINALOA</td>\n",
       "      <td>AHOME</td>\n",
       "      <td>23-PROESFE-ESTR-035928-E000-SL</td>\n",
       "      <td>ACOSTA</td>\n",
       "      <td>BUELNA</td>\n",
       "      <td>GUADALUPE</td>\n",
       "      <td>5.0</td>\n",
       "      <td>sinaloa-ahome</td>\n",
       "      <td>Sinaloa</td>\n",
       "      <td>Ahome</td>\n",
       "      <td>25</td>\n",
       "      <td>1</td>\n",
       "      <td>acostabuelnaguadalupe</td>\n",
       "    </tr>\n",
       "  </tbody>\n",
       "</table>\n",
       "</div>"
      ]
     },
     "execution_count": 17,
     "metadata": {},
     "output_type": "execute_result"
    }
   ],
   "execution_count": 17
  },
  {
   "metadata": {
    "ExecuteTime": {
     "end_time": "2024-07-09T17:07:37.240085Z",
     "start_time": "2024-07-09T17:07:37.230680Z"
    }
   },
   "cell_type": "code",
   "source": [
    "def buscar_entidad_municipio(row):\n",
    "    df_busqueda = beneficiarios_complete\n",
    "    clave = row['key_name']\n",
    "    matches = df_busqueda[df_busqueda['key_name'] == clave][['Entidad_inegi', 'Municipio_inegi']].drop_duplicates()\n",
    "\n",
    "    if len(matches) == 0:\n",
    "        return np.nan, np.nan, np.nan\n",
    "    elif len(matches) == 1:\n",
    "        return 'Emparejamiento', matches.iloc[0]['Entidad_inegi'], matches.iloc[0]['Municipio_inegi']\n",
    "    else:\n",
    "        return 'Homonimia', np.nan, np.nan  # NACIONAL NACIONAL. \n"
   ],
   "id": "e1d8af470bcbe957",
   "outputs": [],
   "execution_count": 18
  },
  {
   "metadata": {
    "ExecuteTime": {
     "end_time": "2024-07-09T17:12:52.706084Z",
     "start_time": "2024-07-09T17:07:37.246106Z"
    }
   },
   "cell_type": "code",
   "source": [
    "benef_nacional_benef_2023 = benef_nacional.copy()\n",
    "benef_nacional_benef_2023[['MATCH', 'ENTIDAD', 'MUNICIPIO']] = benef_nacional_benef_2023.apply(buscar_entidad_municipio,\n",
    "                                                                                               axis=1,\n",
    "                                                                                               result_type='expand')"
   ],
   "id": "ce2c97704ca813bf",
   "outputs": [],
   "execution_count": 19
  },
  {
   "metadata": {
    "ExecuteTime": {
     "end_time": "2024-07-09T17:12:52.740363Z",
     "start_time": "2024-07-09T17:12:52.707126Z"
    }
   },
   "cell_type": "code",
   "source": [
    "benef_nacional_benef_2023.to_csv('../../data/productores_beneficiarios 2019-2022/match_beneficiarios_2023.csv',\n",
    "                                 index=False)"
   ],
   "id": "c18fd3e9535642fd",
   "outputs": [],
   "execution_count": 20
  },
  {
   "metadata": {},
   "cell_type": "markdown",
   "source": "# Buscar coincidencias en Productores Autorizados 2023",
   "id": "75f580f3e88de7c8"
  },
  {
   "metadata": {
    "ExecuteTime": {
     "end_time": "2024-07-09T17:12:54.371100Z",
     "start_time": "2024-07-09T17:12:52.742379Z"
    }
   },
   "cell_type": "code",
   "source": [
    "autorizados_complete = autorizados_complete.dropna(subset=['APELLIDO PATERNO', 'APELLIDO MATERNO', 'NOMBRE (S)']).copy()\n",
    "\n",
    "# Crear la clave (nombre completo en minúsculas, sin acentos y sin espacios)\n",
    "autorizados_complete['key_name'] = ((autorizados_complete['APELLIDO PATERNO'] +\n",
    "                                     autorizados_complete['APELLIDO MATERNO'] +\n",
    "                                     autorizados_complete['NOMBRE (S)'])\n",
    "                                    .str.lower()\n",
    "                                    .apply(remover_acentos)\n",
    "                                    .str.replace(r' ', ''))"
   ],
   "id": "a4bc6cd9d9e4427",
   "outputs": [],
   "execution_count": 21
  },
  {
   "metadata": {
    "ExecuteTime": {
     "end_time": "2024-07-09T17:12:54.377839Z",
     "start_time": "2024-07-09T17:12:54.372150Z"
    }
   },
   "cell_type": "code",
   "source": "autorizados_complete.columns",
   "id": "c7d23232ce2223c0",
   "outputs": [
    {
     "data": {
      "text/plain": [
       "Index(['ESTADO', 'MUNICIPIO', 'ACUSE', 'APELLIDO PATERNO', 'APELLIDO MATERNO',\n",
       "       'NOMBRE (S)', 'PAQUETE', 'KEY_inegi', 'NOM_ENT', 'NOM_MUN', 'CVE_ENT',\n",
       "       'CVE_MUN', 'key_name'],\n",
       "      dtype='object')"
      ]
     },
     "execution_count": 22,
     "metadata": {},
     "output_type": "execute_result"
    }
   ],
   "execution_count": 22
  },
  {
   "metadata": {
    "ExecuteTime": {
     "end_time": "2024-07-09T17:12:54.389239Z",
     "start_time": "2024-07-09T17:12:54.380618Z"
    }
   },
   "cell_type": "code",
   "source": "autorizados_complete.shape",
   "id": "e0cf7e98ec9b7cb3",
   "outputs": [
    {
     "data": {
      "text/plain": [
       "(1598997, 13)"
      ]
     },
     "execution_count": 23,
     "metadata": {},
     "output_type": "execute_result"
    }
   ],
   "execution_count": 23
  },
  {
   "metadata": {
    "ExecuteTime": {
     "end_time": "2024-07-09T17:12:54.399119Z",
     "start_time": "2024-07-09T17:12:54.392195Z"
    }
   },
   "cell_type": "code",
   "source": [
    "\n",
    "def buscar_entidad_municipio(row):\n",
    "    df_busqueda = autorizados_complete\n",
    "    clave = row['key_name']\n",
    "    matches = df_busqueda[df_busqueda['key_name'] == clave][['NOM_ENT', 'NOM_MUN']].drop_duplicates()\n",
    "\n",
    "    if len(matches) == 0:\n",
    "        return np.nan, np.nan, np.nan\n",
    "    elif len(matches) == 1:\n",
    "        return 'Emparejamiento', matches.iloc[0]['NOM_ENT'], matches.iloc[0]['NOM_MUN']\n",
    "    else:\n",
    "        return 'Homonimia', np.nan, np.nan  # NACIONAL NACIONAL. \n"
   ],
   "id": "3431124fc6bf3a01",
   "outputs": [],
   "execution_count": 24
  },
  {
   "metadata": {
    "ExecuteTime": {
     "end_time": "2024-07-09T17:17:11.999222Z",
     "start_time": "2024-07-09T17:12:54.402131Z"
    }
   },
   "cell_type": "code",
   "source": [
    "benef_nacional_prod_2023 = benef_nacional.copy()\n",
    "benef_nacional_prod_2023[['MATCH', 'ENTIDAD', 'MUNICIPIO']] = benef_nacional_prod_2023.apply(buscar_entidad_municipio,\n",
    "                                                                                             axis=1,\n",
    "                                                                                             result_type='expand')"
   ],
   "id": "95685b4a7b3b7f9c",
   "outputs": [],
   "execution_count": 25
  },
  {
   "metadata": {
    "ExecuteTime": {
     "end_time": "2024-07-09T17:17:19.435972Z",
     "start_time": "2024-07-09T17:17:19.408019Z"
    }
   },
   "cell_type": "code",
   "source": [
    "benef_nacional_prod_2023.to_csv('../../data/productores_beneficiarios 2019-2022/match_productores_2023.csv',\n",
    "                                index=False)"
   ],
   "id": "f3f3badf49b02c84",
   "outputs": [],
   "execution_count": 27
  },
  {
   "metadata": {},
   "cell_type": "markdown",
   "source": "# Emparejar con 2019",
   "id": "29e10eda8b2bfa63"
  },
  {
   "cell_type": "markdown",
   "id": "13418951",
   "metadata": {},
   "source": ""
  },
  {
   "metadata": {
    "ExecuteTime": {
     "end_time": "2024-07-09T17:22:42.735821Z",
     "start_time": "2024-07-09T17:22:42.729662Z"
    }
   },
   "cell_type": "code",
   "source": [
    "\n",
    "def get_year(fecha_str):\n",
    "    formatos_fecha = ['%d/%m/%Y', '%Y-%m-%d']  # Lista de formatos a probar\n",
    "    for formato in formatos_fecha:\n",
    "        try:\n",
    "            fecha_dt = pd.to_datetime(fecha_str, format=formato, errors='coerce')\n",
    "            return fecha_dt.year\n",
    "        except ValueError:\n",
    "            continue\n",
    "    return None  # Retorna None si ninguno de los formatos coincide\n",
    "\n",
    "\n",
    "def emparejar(df_origen, df_destino, year):\n",
    "    print(\"Registros originales: \", df_destino.shape[0])\n",
    "    df_origen = df_origen[df_origen['MATCH'] == 'Emparejamiento']\n",
    "    df_destino['year'] = df_destino['FECHA'].apply(get_year)\n",
    "    # df_origen['year'] = df_origen['FECHA'].apply(get_year)\n",
    "    df_origen = df_origen[df_origen['FECHA'] == year]\n",
    "\n",
    "    print(\"Registros a emparejar: \", df_origen.shape[0])\n",
    "    df_origen.drop(columns=['key_name', 'MATCH'], inplace=True)\n",
    "    df_destino = pd.concat([df_origen, df_destino], join='inner', ignore_index=True)\n",
    "    return df_destino\n"
   ],
   "id": "f229b779be53530b",
   "outputs": [],
   "execution_count": 40
  },
  {
   "metadata": {
    "ExecuteTime": {
     "end_time": "2024-07-09T17:19:09.878822Z",
     "start_time": "2024-07-09T17:19:07.584233Z"
    }
   },
   "cell_type": "code",
   "source": [
    "benef_nacional_prod_2023 = pd.read_csv('../../data/productores_beneficiarios 2019-2022/match_beneficiarios_2023.csv')\n",
    "benef_final_2019 = pd.read_csv('../../data/listados_completos/listado_beneficiarios_2019.csv')\n",
    "benef_final_2020 = pd.read_csv('../../data/listados_completos/listado_beneficiarios_2020.csv')\n",
    "\n"
   ],
   "id": "ffc8e22d26e647f7",
   "outputs": [],
   "execution_count": 35
  },
  {
   "metadata": {
    "ExecuteTime": {
     "end_time": "2024-07-09T17:19:09.885809Z",
     "start_time": "2024-07-09T17:19:09.881483Z"
    }
   },
   "cell_type": "code",
   "source": "",
   "id": "8e44c22755e8f1da",
   "outputs": [],
   "execution_count": 35
  },
  {
   "metadata": {
    "ExecuteTime": {
     "end_time": "2024-07-09T17:24:30.386941Z",
     "start_time": "2024-07-09T17:24:06.748210Z"
    }
   },
   "cell_type": "code",
   "source": [
    "print(\"Beneficiarios 2019: \", benef_final_2019.shape)\n",
    "benef_nacional_match_2019 = emparejar(benef_nacional_prod_2023, benef_final_2019, 2019)\n",
    "print(\"Beneficiarios 2019: \", benef_nacional_match_2019.shape)"
   ],
   "id": "a7172b2bcc0a986",
   "outputs": [
    {
     "name": "stdout",
     "output_type": "stream",
     "text": [
      "Beneficiarios 2019:  (275023, 15)\n",
      "Registros originales:  275023\n",
      "Registros a emparejar:  1531\n",
      "Beneficiarios 2019:  (276554, 9)\n"
     ]
    }
   ],
   "execution_count": 43
  },
  {
   "metadata": {
    "ExecuteTime": {
     "end_time": "2024-07-09T17:25:11.724110Z",
     "start_time": "2024-07-09T17:25:10.536714Z"
    }
   },
   "cell_type": "code",
   "source": "benef_nacional_match_2019.to_csv('../../data/listados_completos/listado_beneficiarios_2019_match.csv')",
   "id": "f940997fa19a323c",
   "outputs": [],
   "execution_count": 44
  },
  {
   "metadata": {
    "ExecuteTime": {
     "end_time": "2024-07-09T17:23:57.317716Z",
     "start_time": "2024-07-09T17:23:35.174462Z"
    }
   },
   "cell_type": "code",
   "source": [
    "print(\"Beneficiarios 2020: \", benef_final_2020.shape)\n",
    "benef_nacional_match_2020 = emparejar(benef_nacional_prod_2023, benef_final_2020, 2020)\n",
    "print(\"Beneficiarios 2020: \", benef_nacional_match_2020.shape)"
   ],
   "id": "5caaab048846c95d",
   "outputs": [
    {
     "name": "stdout",
     "output_type": "stream",
     "text": [
      "Beneficiarios 2020:  (369037, 15)\n",
      "Registros originales:  369037\n",
      "Registros a emparejar:  54\n",
      "Beneficiarios 2020:  (369091, 9)\n"
     ]
    }
   ],
   "execution_count": 42
  },
  {
   "metadata": {
    "ExecuteTime": {
     "end_time": "2024-07-09T17:19:56.359952Z",
     "start_time": "2024-07-09T17:19:54.765407Z"
    }
   },
   "cell_type": "code",
   "source": [
    "print(\"Beneficiarios 2020: \", benef_final_2020.shape)\n",
    "benef_nacional_match_2020.to_csv('../../data/listados_completos/listado_beneficiarios_2020_match.csv')"
   ],
   "id": "4161d23d9e2afea2",
   "outputs": [
    {
     "name": "stdout",
     "output_type": "stream",
     "text": [
      "Beneficiarios 2020:  (369037, 15)\n"
     ]
    }
   ],
   "execution_count": 39
  },
  {
   "metadata": {},
   "cell_type": "code",
   "outputs": [],
   "execution_count": null,
   "source": "",
   "id": "930b8b67c1dd64b4"
  }
 ],
 "metadata": {
  "kernelspec": {
   "display_name": "Python 3 (ipykernel)",
   "language": "python",
   "name": "python3"
  },
  "language_info": {
   "codemirror_mode": {
    "name": "ipython",
    "version": 3
   },
   "file_extension": ".py",
   "mimetype": "text/x-python",
   "name": "python",
   "nbconvert_exporter": "python",
   "pygments_lexer": "ipython3",
   "version": "3.11.5"
  }
 },
 "nbformat": 4,
 "nbformat_minor": 5
}
